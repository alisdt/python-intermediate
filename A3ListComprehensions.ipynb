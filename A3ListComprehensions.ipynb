{
 "cells": [
  {
   "cell_type": "markdown",
   "metadata": {},
   "source": [
    "In Python a list comprehension is a way of applying a calculation to a whole list.\n",
    "\n",
    "Let's say we have a list of numbers and we want to add two to each. We could do it this way:\n",
    "\n",
    "```python\n",
    "def add_two_to_all(numbers):\n",
    "    result = []\n",
    "    for n in numbers:\n",
    "        result.append(n+2)\n",
    "    return result\n",
    "```\n",
    "\n",
    "Instead Python allows us to say directly \"for each `n` in `numbers`, give me `n+2`\". It's written like this:\n",
    "\n",
    "```python\n",
    "[n+2 for n in numbers]\n",
    "```\n",
    "\n",
    "Try this simple example, using `range()`:"
   ]
  },
  {
   "cell_type": "code",
   "execution_count": null,
   "metadata": {
    "collapsed": false
   },
   "outputs": [],
   "source": [
    "print([n+2 for n in range(10)])"
   ]
  },
  {
   "cell_type": "markdown",
   "metadata": {},
   "source": [
    "## Exercise\n",
    "\n",
    "In Python you can use the `upper()` method to put a string in upper case:\n",
    "\n",
    "```python\n",
    "a = \"Hello world\"\n",
    "print(a.upper())\n",
    "```\n",
    "\n",
    "Try this out."
   ]
  },
  {
   "cell_type": "code",
   "execution_count": null,
   "metadata": {
    "collapsed": true
   },
   "outputs": [],
   "source": []
  },
  {
   "cell_type": "markdown",
   "metadata": {},
   "source": [
    "Now do this for a list of strings, using a list comprehension. A list of strings is already defined below for your convenience. Use a list comprehension to make them upper case, and print the resulting list."
   ]
  },
  {
   "cell_type": "code",
   "execution_count": null,
   "metadata": {
    "collapsed": true
   },
   "outputs": [],
   "source": [
    "some_words = ['sun', 'moon', 'stars', 'rain']"
   ]
  },
  {
   "cell_type": "markdown",
   "metadata": {},
   "source": [
    "## List comprehensions and functions\n",
    "\n",
    "You can use a list comprehension to apply one of your own functions to a whole list.\n",
    "\n",
    "The function below will add an 's' at the end of a word, but only if there isn't one there already."
   ]
  },
  {
   "cell_type": "code",
   "execution_count": null,
   "metadata": {
    "collapsed": true
   },
   "outputs": [],
   "source": [
    "def pluralise(word):\n",
    "    if word.endswith('s'):\n",
    "        return word\n",
    "    else:\n",
    "        return word+'s'"
   ]
  },
  {
   "cell_type": "markdown",
   "metadata": {},
   "source": [
    "Run the code below, which applies this to the list of words above."
   ]
  },
  {
   "cell_type": "code",
   "execution_count": null,
   "metadata": {
    "collapsed": false
   },
   "outputs": [],
   "source": [
    "print([pluralise(word) for word in some_words])"
   ]
  }
 ],
 "metadata": {
  "anaconda-cloud": {},
  "kernelspec": {
   "display_name": "Python [default]",
   "language": "python",
   "name": "python3"
  },
  "language_info": {
   "codemirror_mode": {
    "name": "ipython",
    "version": 3
   },
   "file_extension": ".py",
   "mimetype": "text/x-python",
   "name": "python",
   "nbconvert_exporter": "python",
   "pygments_lexer": "ipython3",
   "version": "3.5.2"
  }
 },
 "nbformat": 4,
 "nbformat_minor": 1
}
