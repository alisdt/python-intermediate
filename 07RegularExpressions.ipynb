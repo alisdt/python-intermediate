{
 "cells": [
  {
   "cell_type": "markdown",
   "metadata": {
    "collapsed": true
   },
   "source": [
    "## Regular Expressions\n",
    "\n",
    "This will look like some more text searching! But it's useful in lots of contexts.\n",
    "\n",
    "Regular expressions give you a way to both match pieces of text you are interested in, and extract information from them.\n",
    "\n",
    "First import the regular expression library `re` -- this is built in to Python."
   ]
  },
  {
   "cell_type": "code",
   "execution_count": null,
   "metadata": {
    "collapsed": true
   },
   "outputs": [],
   "source": [
    "import re"
   ]
  },
  {
   "cell_type": "markdown",
   "metadata": {},
   "source": [
    "## Searching and matching\n",
    "\n",
    "A regular expression is a pattern. For a given piece of text, you can then ask the question, \"does the pattern occur in this text?\". The `re.search()` function asks this question.\n",
    "\n",
    "Here's an example:\n",
    "\n",
    "```python\n",
    "pattern = r'mor+ning'\n",
    "```\n",
    "\n",
    "You can test this pattern against some text like this. Try these, in separate cells so you can see the results:\n",
    "\n",
    "```python\n",
    "print(re.search(pattern, 'morning'))\n",
    "print(re.search(pattern, 'good morrrrrrning'))\n",
    "print(re.search(pattern, 'mornin'))\n",
    "```"
   ]
  },
  {
   "cell_type": "code",
   "execution_count": null,
   "metadata": {
    "collapsed": true
   },
   "outputs": [],
   "source": []
  },
  {
   "cell_type": "code",
   "execution_count": null,
   "metadata": {
    "collapsed": true
   },
   "outputs": [],
   "source": []
  },
  {
   "cell_type": "code",
   "execution_count": null,
   "metadata": {
    "collapsed": true
   },
   "outputs": [],
   "source": []
  },
  {
   "cell_type": "markdown",
   "metadata": {},
   "source": [
    "The `re.match()` function is similar, except that it insists that the pattern must match the text from the start of the line. Compare:\n",
    "\n",
    "```python\n",
    "print(re.match(pattern, 'good morrrrrrning'))\n",
    "```"
   ]
  },
  {
   "cell_type": "code",
   "execution_count": null,
   "metadata": {
    "collapsed": false
   },
   "outputs": [],
   "source": []
  },
  {
   "cell_type": "markdown",
   "metadata": {},
   "source": [
    "In the pattern `r'mor+ning'`, the `+` means \"repeat one or more times\". So any text containing something like `morning`, but with any number of `'r'`, will match the pattern.\n",
    "\n",
    "Modifiers like `+` always apply to the item directly before them -- so here the `+` refers only to the `r`.\n",
    "\n",
    "## Match objects\n",
    "\n",
    "When a regular expression function such as `search` is unsuccessful, it returns `None`. When it's successful, it returns a match object."
   ]
  },
  {
   "cell_type": "markdown",
   "metadata": {},
   "source": [
    "The match object itself doesn't tell us much! The documentation for match objects is here:\n",
    "\n",
    "<https://docs.python.org/3/library/re.html#match-objects>\n",
    "\n",
    "Try capturing a match object in a variable, and run some of its methods:\n",
    "\n",
    "```python\n",
    "m = re.search(pattern, 'good morrrrrrning')\n",
    "m.start()\n",
    "m.end()\n",
    "m.group(0)\n",
    "```"
   ]
  },
  {
   "cell_type": "code",
   "execution_count": null,
   "metadata": {
    "collapsed": true
   },
   "outputs": [],
   "source": []
  },
  {
   "cell_type": "markdown",
   "metadata": {},
   "source": [
    "## The \"result\"\n",
    "\n",
    "Sometimes you'll just want to know whether a string matches a regular expression. In that case, just look at the returned match object. If it exists, there was a match! If not, the result will be `None` (the special Python \"null value\")."
   ]
  },
  {
   "cell_type": "code",
   "execution_count": null,
   "metadata": {
    "collapsed": false
   },
   "outputs": [],
   "source": [
    "m = re.search('cat', 'dogularity')\n",
    "if m is None:\n",
    "    print(\"No match found!\")\n",
    "else:\n",
    "    print(\"It matches!\")"
   ]
  },
  {
   "cell_type": "markdown",
   "metadata": {},
   "source": [
    "## Exercise: 404\n",
    "\n",
    "Change the first line of the cell above so that a match occurs."
   ]
  },
  {
   "cell_type": "markdown",
   "metadata": {},
   "source": [
    "## Getting information out of a match\n",
    "\n",
    "For now, it's enough to know that:\n",
    "\n",
    "* `m.start()` gives the start position of the match, in the original string\n",
    "* `m.end()` gives the end of the match, in the original string. This follows the usual Python convention -- it refers to the position after the end of the match.\n",
    "* `m.group(0)` gives the part of the string that matches (more about groups later)"
   ]
  },
  {
   "cell_type": "markdown",
   "metadata": {},
   "source": [
    "## More regular expressions\n",
    "\n",
    "Here are some more things you can use in regular expressions."
   ]
  },
  {
   "cell_type": "markdown",
   "metadata": {},
   "source": [
    "### Repetition\n",
    "\n",
    "A question mark **`?`** indicates that something can appear 0 or 1 times. For example, the regular expression:\n",
    "\n",
    "`colou?r`\n",
    "\n",
    "will match `color` and `colour`. The `u` can appear zero times (`color`) or once (`colour`).\n",
    "\n",
    "\n",
    "A plus **`+`** (which we've already seen) indicates that something can appear 1 or more times.\n",
    "\n",
    "\n",
    "An asterisk **`*`** indicates that something can appear 0 or more times. For example:\n",
    "\n",
    "`Moo*`\n",
    "\n",
    "matches `Moo`, `Mooooooo`, `Moooooooooooooooo` etc., but also matches `Mo`.\n",
    "\n",
    "\n",
    "**`{n}`** A number in curly brackets indicates that number of repeats. For example:\n",
    "\n",
    "`Ba{4}`\n",
    "\n",
    "matches `Baaaa`.\n",
    "\n",
    "\n",
    "**`{n,m}`** Two numbers indicate a range of possible repeats. For example:\n",
    "\n",
    "`Do{1,5}`\n",
    "\n",
    "matches `Do`, `Doo`, `Dooo`, `Doooo`, and `Dooooo`.\n",
    "\n",
    "(Note that unlike most Python ranges, it *does* include the second number!)"
   ]
  },
  {
   "cell_type": "markdown",
   "metadata": {},
   "source": [
    "### Exercise: Repetition\n",
    "\n",
    "First run the cell below to define the test function:"
   ]
  },
  {
   "cell_type": "code",
   "execution_count": null,
   "metadata": {
    "collapsed": true
   },
   "outputs": [],
   "source": [
    "def test_re(r, include=None, exclude=None):\n",
    "    for i in include:\n",
    "        if not re.match('^'+r+'$', i):\n",
    "            print(\"Doesn't match included string: \"+i)\n",
    "    for x in exclude:\n",
    "        if re.match('^'+r+'$', x):\n",
    "            print(\"Matches excluded string: \"+x)"
   ]
  },
  {
   "cell_type": "markdown",
   "metadata": {},
   "source": [
    "In the following cells, change the variable `pattern` to match all the strings in `include` and not match the strings in `exclude`. Unlike `re.search` and `re.match`, it must match the *whole* string. Run the cell and it will test your pattern. If you don't see a message, your pattern was correct! Note that several different answers are possible for some of these exercises."
   ]
  },
  {
   "cell_type": "code",
   "execution_count": null,
   "metadata": {
    "collapsed": false
   },
   "outputs": [],
   "source": [
    "pattern = ''\n",
    "test_re(\n",
    "    pattern,\n",
    "    include = ['xyyyz', 'xyyyyz', 'xyyz'],\n",
    "    exclude = ['xyz', 'xyyyyyz']\n",
    ")"
   ]
  },
  {
   "cell_type": "code",
   "execution_count": null,
   "metadata": {
    "collapsed": false
   },
   "outputs": [],
   "source": [
    "pattern = ''\n",
    "test_re(\n",
    "    pattern,\n",
    "    include = ['jk', 'ijk', 'ik', 'ij', ''],\n",
    "    exclude = ['ii', 'jj', 'kk', 'ijjk']\n",
    ")"
   ]
  },
  {
   "cell_type": "markdown",
   "metadata": {},
   "source": [
    "### Groups\n",
    "\n",
    "At the moment we can only apply our repetition modifiers, `?`, `+` and `*`, to single characters. To apply it to a sequence we can use a group. This is denoted by parentheses `()`. For example:\n",
    "\n",
    "`(bye)+`\n",
    "\n",
    "will match:\n",
    "\n",
    "`bye`\n",
    "`byebye`\n",
    "`byebyebye`\n",
    "\n",
    "etc."
   ]
  },
  {
   "cell_type": "markdown",
   "metadata": {},
   "source": [
    "### Exercise: Groups\n",
    "\n",
    "As before, change `pattern` to something that will match the strings in `include`, and fail to match the strings in `exclude`."
   ]
  },
  {
   "cell_type": "code",
   "execution_count": null,
   "metadata": {
    "collapsed": false
   },
   "outputs": [],
   "source": [
    "pattern = ''\n",
    "test_re(\n",
    "    pattern,\n",
    "    include = ['', 'hi hi ', 'hi hi hi '],\n",
    "    exclude = ['hello']\n",
    ")"
   ]
  },
  {
   "cell_type": "code",
   "execution_count": null,
   "metadata": {
    "collapsed": false
   },
   "outputs": [],
   "source": [
    "pattern = ''\n",
    "test_re(\n",
    "    pattern,\n",
    "    include = ['good morning', 'good morrrrrrrrning', 'morning', 'morrrning'],\n",
    "    exclude = ['good']\n",
    ")"
   ]
  },
  {
   "cell_type": "markdown",
   "metadata": {},
   "source": [
    "### Escaping and backslashes\n",
    "\n",
    "If you want to match an *actual* parenthesis in a regular expression, use a backslash before it. This applies to any character with a special meaning:\n",
    "\n",
    "`\"hello \\(why\\?\\)\"`\n",
    "\n",
    "To prevent these backslashes from being misinterpreted, it's wise to use the \"raw\" form of strings, with an 'r' at the beginning.\n",
    "\n",
    "`r\"hello \\(why\\?\\)\"`\n",
    "\n",
    "(You may remember this style from the handling of Windows file paths containing backslashes).\n",
    "\n",
    "It's good practice to use this kind of string for any regular expression. Even if your expression doesn't contain a backslash to start with, use `r\"\"` at the beginning, and it'll still work when you do!"
   ]
  },
  {
   "cell_type": "markdown",
   "metadata": {},
   "source": [
    "### Groups for extracting information\n",
    "\n",
    "Try this:\n",
    "\n",
    "```python\n",
    "text = \"baaaaaaa mooooooo\"\n",
    "m = re.search(r'(ba+) (mo+)', text)\n",
    "print(m.group(1))\n",
    "print(m.group(2))\n",
    "```"
   ]
  },
  {
   "cell_type": "code",
   "execution_count": null,
   "metadata": {
    "collapsed": true
   },
   "outputs": [],
   "source": []
  },
  {
   "cell_type": "markdown",
   "metadata": {},
   "source": [
    "As you've already seen, group zero is the whole match. Further groups are matches of individual parenthesised groups within the expression, from left to right."
   ]
  },
  {
   "cell_type": "markdown",
   "metadata": {},
   "source": [
    "### Wildcards\n",
    "\n",
    "A full stop **`.`** can match any character. For example, `.{8}` will match any 8 characters.\n",
    "\n",
    "**`\\w`** This matches any word character. For example, `z\\w+a` will match any word starting with 'z' and ending in 'a'.\n",
    "\n",
    "**`\\d`** This matches any digit character. For example, `\\d+` will match any number.\n",
    "\n",
    "**`\\s`** This matches any space character -- usually tabs and spaces.\n",
    "\n",
    "All of these can be inverted by being capitalised -- so for example, `\\D` matches any character which is *not* a digit.\n",
    "\n",
    "The definitions of which characters are in each of these categories is taken from the Unicode standard. For most character sets, this should be fairly obvious.\n",
    "\n",
    "```python\n",
    "m = re.match(r'\\d+', \"٣٤٦٢\")\n",
    "```\n",
    "\n",
    "This leads to a common regular expression idiom: since `.` means \"any character\" and `*` means \"0 or more repeats\", `.*` means \"any amount of anything\".\n",
    "\n",
    "Therefore (for example) `q.*y` will match anything beginning with a q and ending in a y -- but the characters in between can be anything, not just alphabetic characters."
   ]
  },
  {
   "cell_type": "markdown",
   "metadata": {},
   "source": [
    "### More groups for extracting information\n",
    "\n",
    "Now this is starting to look useful! Imagine a collaborator has given you some data files of recordings of participants, with filenames like this:\n",
    "\n",
    "```\n",
    "001_2016-08-12_control.wav\n",
    "```\n",
    "\n",
    "So the filename has a participant number, a date, and a condition / participant group, all separated by underscores `_`.\n",
    "\n",
    "You could match each filename with:\n",
    "\n",
    "```python\n",
    "filename_re = r'(\\d{3})_(\\d{4}-\\d{2}-\\d{2})_(\\w+)\\.wav'\n",
    "m = re.match(filename_re, filename)\n",
    "```\n",
    "\n",
    "So the match object `m` will now contain the participant number in `m.group(1)`, date in `m.group(2)`, and condition in `m.group(3)`.\n",
    "\n",
    "Try this out, if you need to convince yourself!"
   ]
  },
  {
   "cell_type": "code",
   "execution_count": null,
   "metadata": {
    "collapsed": false
   },
   "outputs": [],
   "source": [
    "filename = '001_2016-08-12_control.wav'\n",
    "filename_re = r'(\\d{3})_(\\d{4}-\\d{2}-\\d{2})_(\\w+)\\.wav'\n",
    "m = re.match(filename_re, filename)\n",
    "m.groups()"
   ]
  },
  {
   "cell_type": "markdown",
   "metadata": {},
   "source": [
    "### Exercise: Wildcards\n",
    "\n",
    "As before, change `pattern` to something that will match the strings in `include`, and fail to match the strings in `exclude`."
   ]
  },
  {
   "cell_type": "code",
   "execution_count": null,
   "metadata": {
    "collapsed": false
   },
   "outputs": [],
   "source": [
    "# addresses!\n",
    "pattern = ''\n",
    "test_re(\n",
    "    pattern,\n",
    "    include = ['12 Something Grove', '1 A Street', '8 Thingy Avenue'],\n",
    "    exclude = ['743', 'Buckingham Palace', 'Princes 123 Street']\n",
    ")"
   ]
  },
  {
   "cell_type": "code",
   "execution_count": null,
   "metadata": {
    "collapsed": false
   },
   "outputs": [],
   "source": [
    "# phone numbers\n",
    "pattern = ''\n",
    "test_re(\n",
    "    pattern,\n",
    "    include = ['07771234567', '0164 210 0001', '0131 444 5555'],\n",
    "    exclude = ['1234', '13579864233', '0 16 42 10 00 01']\n",
    ")"
   ]
  },
  {
   "cell_type": "markdown",
   "metadata": {},
   "source": [
    "### Character classes\n",
    "\n",
    "Square brackets **`[]`** can be used to enclose alternative single characters.\n",
    "\n",
    "For example `[abc]` will match any of `a`, `b`, or `c` -- so `[abc]+` matches any sequence of one or more `a`, `b`, or `c`, eg. `aaaa`, `bacab`, `ccab`, `b` etc.\n",
    "\n",
    "You can use wildcards in character classes. For example:\n",
    "\n",
    "`[\\d-]`\n",
    "\n",
    "matches any digit or a hyphen `-`."
   ]
  },
  {
   "cell_type": "markdown",
   "metadata": {},
   "source": [
    "### Exercise: Character classes\n",
    "\n",
    "As before, change `pattern` to something that will match the strings in `include`, and fail to match the strings in `exclude`."
   ]
  },
  {
   "cell_type": "code",
   "execution_count": 44,
   "metadata": {
    "collapsed": false
   },
   "outputs": [],
   "source": [
    "pattern = ''\n",
    "test_re(\n",
    "    pattern,\n",
    "    include = ['1234321', '1', '3', '4242'],\n",
    "    exclude = ['6', '632', '7891', '0']\n",
    ")"
   ]
  },
  {
   "cell_type": "code",
   "execution_count": 46,
   "metadata": {
    "collapsed": false
   },
   "outputs": [],
   "source": [
    "pattern = ''\n",
    "test_re(\n",
    "    pattern,\n",
    "    include = ['bat', 'bit', 'but', 'bet', 'bot'],\n",
    "    exclude = ['bqt', 'brt']\n",
    ")"
   ]
  },
  {
   "cell_type": "markdown",
   "metadata": {},
   "source": [
    "## Alternatives\n",
    "\n",
    "Last but not least, you can use the pipe character **|** to mark several alternatives in a regular expression.\n",
    "\n",
    "For example, `r'cat|dog|fish'` matches *either* `cat`, `dog`, or `fish`.\n",
    "\n",
    "If you want to put alternatives inside a larger expression, use a group. for example:\n",
    "\n",
    "`r'Remember to feed the (cat|dog|fish).'`"
   ]
  },
  {
   "cell_type": "markdown",
   "metadata": {},
   "source": [
    "## Timing\n",
    "\n",
    "Regular expressions are powerful, but also sometimes slower than alternative approaches. Let's look at how to test this.\n",
    "\n",
    "You can time some code by typing\n",
    "\n",
    "`%%timeit`\n",
    "\n",
    "at the top of a cell.\n",
    "\n",
    "This will run all the code in the cell many times, and show you the average.\n",
    "\n",
    "To demonstrate this, try:\n",
    "\n",
    "```python\n",
    "%%timeit\n",
    "\n",
    "x = 2 + 2\n",
    "```\n",
    "\n",
    "Be careful **not** to put any `print()` commands in a cell with `%%timeit`, as this will end up printing thousands of times!"
   ]
  },
  {
   "cell_type": "code",
   "execution_count": null,
   "metadata": {
    "collapsed": false
   },
   "outputs": [],
   "source": []
  },
  {
   "cell_type": "markdown",
   "metadata": {},
   "source": [
    "## Parsing dates\n",
    "\n",
    "If we have a date in ISO format (YYYY-MM-DD), we could match it with a regular expression. Alternatively, we could use the string `.split()` function, or string slicing. \n",
    "\n",
    "First, write code in a cell that uses regular expressions to extract the year, month and day. At the end you should have variables `year`, `month` and `day` with the relevant values in, as strings. Print these to show that the code is working correctly.\n",
    "\n",
    "Now write code in another cell using one of the other two approaches to achieve the same result. Again, print these to show it produces the same result as the other code.\n",
    "\n",
    "Finally, remove the `print()` commands from both cells. Add `%%timeit` at the top of each of them. Now run them again to compare the time taken by each approach."
   ]
  },
  {
   "cell_type": "code",
   "execution_count": null,
   "metadata": {
    "collapsed": false
   },
   "outputs": [],
   "source": []
  },
  {
   "cell_type": "code",
   "execution_count": null,
   "metadata": {
    "collapsed": false
   },
   "outputs": [],
   "source": []
  }
 ],
 "metadata": {
  "anaconda-cloud": {},
  "kernelspec": {
   "display_name": "Python [default]",
   "language": "python",
   "name": "python3"
  },
  "language_info": {
   "codemirror_mode": {
    "name": "ipython",
    "version": 3
   },
   "file_extension": ".py",
   "mimetype": "text/x-python",
   "name": "python",
   "nbconvert_exporter": "python",
   "pygments_lexer": "ipython3",
   "version": "3.5.2"
  }
 },
 "nbformat": 4,
 "nbformat_minor": 1
}
