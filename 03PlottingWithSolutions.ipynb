{
 "cells": [
  {
   "cell_type": "markdown",
   "metadata": {},
   "source": [
    "## Plotting data\n",
    "\n",
    "Building on our previous example, let's get some data that we can plot.\n",
    "\n",
    "Let's try to plot:\n",
    "\n",
    "* A histogram of word lengths -- how many 1-letter, 2-letter, 3-letter words etc.\n",
    "* A histogram of sentence lengths (number of words)\n",
    "* A plot which compares the length of a word against the number of words in the sentence it's contained in (so we can look at e.g. do longer sentences tend to contain longer words).\n",
    "\n",
    "We need to generate some data! For our first example, the data will be counts of each word length (how many 1-letter, 2-letter, 3-letter words etc.)\n",
    "\n",
    "As before `Counter` will do this for us. Here's a function to generate the data:"
   ]
  },
  {
   "cell_type": "code",
   "execution_count": 1,
   "metadata": {
    "collapsed": true
   },
   "outputs": [],
   "source": [
    "from collections import Counter\n",
    "\n",
    "def word_length_counts(text):\n",
    "    words = text.split()\n",
    "    lengths = [len(word) for word in words]\n",
    "    return Counter(lengths)"
   ]
  },
  {
   "cell_type": "markdown",
   "metadata": {},
   "source": [
    "Try this out:"
   ]
  },
  {
   "cell_type": "code",
   "execution_count": 2,
   "metadata": {
    "collapsed": false
   },
   "outputs": [
    {
     "name": "stdout",
     "output_type": "stream",
     "text": [
      "Counter({4: 3, 2: 2, 1: 1, 6: 1, 7: 1})\n"
     ]
    }
   ],
   "source": [
    "print(word_length_counts(\"This is a test of word length counts!\"))"
   ]
  },
  {
   "cell_type": "markdown",
   "metadata": {},
   "source": [
    "## List comprehensions\n",
    "\n",
    "This adds a new Python structure called a *list comprehension*. It's not essential that you understand it completely right now, just note that:\n",
    "\n",
    "```python\n",
    "lengths = [len(word) for word in words]\n",
    "```\n",
    "\n",
    "is equivalent to:\n",
    "\n",
    "```python\n",
    "lengths = []\n",
    "for word in words:\n",
    "    lengths.append(len(word))\n",
    "```\n",
    "\n",
    "The meaning in each case is \"calculate the length of each `word` in `words`\".\n",
    "\n",
    "There's more detail and an exercise on this in worksheet A3, if you're interested."
   ]
  },
  {
   "cell_type": "markdown",
   "metadata": {},
   "source": [
    "## A first data plot\n",
    "\n",
    "Let's look at making a scatter plot of some data points. Here's the documentation:\n",
    "\n",
    "http://matplotlib.org/api/pyplot_api.html#matplotlib.pyplot.scatter\n",
    "\n",
    "By convention we import seaborn as:\n",
    "\n",
    "```python\n",
    "import matplotlib.pyplot as plt\n",
    "```\n",
    "\n",
    "The use of `as` means that we refer to `plt` rather than `matplotlib.pyplot`.\n",
    "\n",
    "So instead of calling the function for a plot like this:\n",
    "\n",
    "```python\n",
    "matplotlib.pyplot.scatter(....\n",
    "```\n",
    "\n",
    "we can call it like this:\n",
    "\n",
    "```python\n",
    "matplotlib.pyplot.scatter(....\n",
    "```\n",
    "\n",
    "This makes the code more succinct.\n",
    "\n",
    "Here's an example of making a plot:\n",
    "\n",
    "```python\n",
    "%matplotlib inline\n",
    "import matplotlib.pyplot as plt\n",
    "x_data = [1, 2, 3, 4, 5]\n",
    "y_data = [16, 4, 2, 8, 1]\n",
    "plt.scatter(x_data, y_data, color=\"red\")\n",
    "```\n",
    "\n",
    "Try it out! Note the important line:\n",
    "\n",
    "```python\n",
    "%matplotlib inline\n",
    "```\n",
    "\n",
    "This tells Jupyter to show the plot inside the notebook."
   ]
  },
  {
   "cell_type": "code",
   "execution_count": 3,
   "metadata": {
    "collapsed": false,
    "scrolled": true
   },
   "outputs": [
    {
     "data": {
      "text/plain": [
       "<matplotlib.collections.PathCollection at 0x7ffac378da90>"
      ]
     },
     "execution_count": 3,
     "metadata": {},
     "output_type": "execute_result"
    },
    {
     "data": {
      "image/png": "[encoded data removed]",
      "text/plain": [
       "<matplotlib.figure.Figure at 0x7ffac37fa358>"
      ]
     },
     "metadata": {},
     "output_type": "display_data"
    }
   ],
   "source": [
    "%matplotlib inline\n",
    "import matplotlib.pyplot as plt\n",
    "x_data = [1, 2, 3, 4, 5]\n",
    "y_data = [16, 4, 2, 8, 1]\n",
    "plt.scatter(x_data, y_data, color=\"red\")\n"
   ]
  },
  {
   "cell_type": "markdown",
   "metadata": {
    "collapsed": false
   },
   "source": [
    "## Everything is data\n",
    "\n",
    "As you might expect we can use data for more than just the `x` and `y` coordinates in the plot. What if we have a third variable that we want to represent somehow?\n",
    "\n",
    "For example, we can use the size of the marker to show a third variable:\n",
    "\n",
    "```python\n",
    "q_data = [10, 18, 42, 22, 33]\n",
    "plt.scatter(x_data, y_data, s=q_data)\n",
    "```"
   ]
  },
  {
   "cell_type": "code",
   "execution_count": 5,
   "metadata": {
    "collapsed": false
   },
   "outputs": [
    {
     "data": {
      "text/plain": [
       "<matplotlib.collections.PathCollection at 0x7ffac05c6908>"
      ]
     },
     "execution_count": 5,
     "metadata": {},
     "output_type": "execute_result"
    },
    {
     "data": {
      "image/png": "[encoded data removed]",
      "text/plain": [
       "<matplotlib.figure.Figure at 0x7ffac0636710>"
      ]
     },
     "metadata": {},
     "output_type": "display_data"
    }
   ],
   "source": [
    "q_data = [90, 18, 42, 22, 33]\n",
    "plt.scatter(x_data, y_data, s=q_data)"
   ]
  },
  {
   "cell_type": "markdown",
   "metadata": {},
   "source": [
    "## Exercise: Real data!\n",
    "\n",
    "First, run the function defined above, `word_length_counts()`, on our example text. Keep the `Counter` you get as a result in a variable called `counts`."
   ]
  },
  {
   "cell_type": "code",
   "execution_count": 6,
   "metadata": {
    "collapsed": true
   },
   "outputs": [],
   "source": [
    "input_file = open(\"reason.txt\",\"r\")\n",
    "text = input_file.read()\n",
    "counts = word_length_counts(text)"
   ]
  },
  {
   "cell_type": "markdown",
   "metadata": {},
   "source": [
    "Remember that this `Counter` is similar to a Python dictionary. To plot it as a histogram, we can use a `matplotlib` bar chart. (`matplotlib` does have a histogram function more suitable for continuous data).\n",
    "\n",
    "The `matplotlib` `bar()` function, though, is just expecting two lists of numbers! Here's an example, try it out:\n",
    "\n",
    "```python\n",
    "plt.bar([1, 2, 3, 4],[99, 74, 33, 12, 18])\n",
    "```"
   ]
  },
  {
   "cell_type": "code",
   "execution_count": 8,
   "metadata": {
    "collapsed": false
   },
   "outputs": [
    {
     "data": {
      "text/plain": [
       "<Container object of 5 artists>"
      ]
     },
     "execution_count": 8,
     "metadata": {},
     "output_type": "execute_result"
    },
    {
     "data": {
      "image/png": "[encoded data removed]",
      "text/plain": [
       "<matplotlib.figure.Figure at 0x7ffac05f8198>"
      ]
     },
     "metadata": {},
     "output_type": "display_data"
    }
   ],
   "source": [
    "plt.bar([1, 2, 3, 4, 5],[99, 74, 33, 12, 18])"
   ]
  },
  {
   "cell_type": "markdown",
   "metadata": {},
   "source": [
    "So we want to convert our data into two lists of numbers for plotting:\n",
    "\n",
    "* The first list (the x axis) is just the numbers from 1 to the number of letters in the longest word\n",
    "* The second list (the bar heights in the plot) is the corresponding count of that length of word\n",
    "\n",
    "Write a function, `counts_for_plotting`,  which takes a `Counter` and then returns this second list, the bar heights in the plot. (The first list is just a `range()` with the length of the second list, so we don't need to return it).\n",
    "\n",
    "To do this:\n",
    "\n",
    "* Create a list for `x` from 1 to the number of letters in the longest word, using `range()`\n",
    " * Since the `Counter` is like a dictionary, you can get the word lengths with the `keys()` method\n",
    " * So, you can get the length of the longest word with `max(counts.keys())`\n",
    " * Remember that to go up to that number in a `range()` you'll have to add one\n",
    "\n",
    "* Create an empty list for `y` (bar heights)\n",
    "\n",
    "* Now loop through the `x` list\n",
    " * For each `x`, get the count of that word length from your `Counter` and append it to the `y` list.\n",
    " * To append something to a list use e.g. `my_list.append()`\n",
    " * Note that if that word length has not been seen yet, the `Counter` will return zero\n",
    " \n",
    "This is possible as a list comprehension so give that a try if you want!"
   ]
  },
  {
   "cell_type": "code",
   "execution_count": 17,
   "metadata": {
    "collapsed": true
   },
   "outputs": [],
   "source": [
    "# using a loop\n",
    "def counts_for_plotting(counts):\n",
    "    result = []\n",
    "    for x in range(max(counts.keys())):\n",
    "        result.append(counts[x])\n",
    "        \n",
    "# using a list comprehension\n",
    "def counts_for_plotting(counts):\n",
    "    return [counts[x] for x in range(max(counts.keys())+1)]"
   ]
  },
  {
   "cell_type": "markdown",
   "metadata": {},
   "source": [
    "Now test your function:"
   ]
  },
  {
   "cell_type": "code",
   "execution_count": 18,
   "metadata": {
    "collapsed": false
   },
   "outputs": [
    {
     "name": "stdout",
     "output_type": "stream",
     "text": [
      "[0, 5952, 47960, 38334, 24744, 18330, 14742, 13215, 10699, 11578, 10181, 6836, 3319, 2248, 1692, 553, 257, 138, 84, 91, 30, 26, 18, 7, 7, 3, 5, 1, 0, 0, 0, 0, 0, 0, 0, 0, 1]\n"
     ]
    }
   ],
   "source": [
    "print(counts_for_plotting(counts))"
   ]
  },
  {
   "cell_type": "markdown",
   "metadata": {},
   "source": [
    "## Exercise: Plotting the data\n",
    "\n",
    "Have a look at the documentation for `bar()`:\n",
    "\n",
    "http://matplotlib.org/api/pyplot_api.html#matplotlib.pyplot.bar\n",
    "\n",
    "Now that you have your data, you can simply plot it with:\n",
    "\n",
    "```python\n",
    "y = counts_for_plotting(counts)\n",
    "plt.bar(range(1,len(y)+1), y)\n",
    "```"
   ]
  },
  {
   "cell_type": "code",
   "execution_count": 20,
   "metadata": {
    "collapsed": false
   },
   "outputs": [
    {
     "data": {
      "text/plain": [
       "<Container object of 37 artists>"
      ]
     },
     "execution_count": 20,
     "metadata": {},
     "output_type": "execute_result"
    },
    {
     "data": {
      "image/png": "[encoded data removed]",
      "text/plain": [
       "<matplotlib.figure.Figure at 0x7ffac0471f98>"
      ]
     },
     "metadata": {},
     "output_type": "display_data"
    }
   ],
   "source": [
    "y = counts_for_plotting(counts)\n",
    "plt.bar(range(1,len(y)+1), y)"
   ]
  },
  {
   "cell_type": "markdown",
   "metadata": {},
   "source": [
    "However this isn't a very attractive plot! Some suggestions:\n",
    "\n",
    "* Add a title with `plt.title()`\n",
    "* Change the bar colour\n",
    "* Change the bar width so there isn't a gap between bars\n",
    "* Label the axes with `plt.xlabel()` and `plt.ylabel()`\n",
    "\n",
    "And more advanced:\n",
    "\n",
    "* Make the y-axis a log scale\n",
    "\n",
    "Try these out to finish off your plot."
   ]
  },
  {
   "cell_type": "code",
   "execution_count": null,
   "metadata": {
    "collapsed": true
   },
   "outputs": [],
   "source": []
  },
  {
   "cell_type": "markdown",
   "metadata": {},
   "source": [
    "## Exercise: Sentence lengths\n",
    "\n",
    "For this exercise we're going back a little to last week -- this will generate some more data you can use.\n",
    "\n",
    "Write a function which takes a filename, and counts the number of words per sentence. As above with word lengths, the function should return a `Counter`.\n",
    "\n",
    "For simplicity, assume that:\n",
    "\n",
    "* A sentence is always the text between a full stop \".\" and the next full stop.\n",
    "* A \"word\" is always the text between a space \" \" and the next space.\n",
    "\n",
    "Some notes:\n",
    "\n",
    "* First think about how you would separate the text into sentences.\n",
    "* Then think about how you would measure the length of each sentence.\n",
    "* Make a list of sentence lengths, then feed it to `Counter`.\n",
    "* You'll use `split()` (a lot).\n",
    "* You could use a text cleaning function if you want, though you'll have to make sure to preserve full stops in the text.\n",
    "* As with the previous exercise, you could use a loop or a list comprehension"
   ]
  },
  {
   "cell_type": "code",
   "execution_count": 35,
   "metadata": {
    "collapsed": true
   },
   "outputs": [],
   "source": [
    "# with a loop\n",
    "def sentence_lengths(filename):\n",
    "    f = open(filename,\"r\")\n",
    "    text = f.read()\n",
    "    result = []\n",
    "    for sentence in text.split(\".\"):\n",
    "        words = sentence.split()\n",
    "        result.append(len(words))\n",
    "    return Counter(result)\n",
    "        \n",
    "# with a list comprehension\n",
    "def sentence_lengths(filename):\n",
    "    text = open(filename,\"r\").read()\n",
    "    return Counter([len(sentence.split()) for sentence in text.split(\".\")])       "
   ]
  },
  {
   "cell_type": "markdown",
   "metadata": {},
   "source": [
    "Now you can:\n",
    "\n",
    "* use `counts_for_plotting()` to get the data in a format you can plot\n",
    "* plot this the same way as the word lengths, using a histogram."
   ]
  },
  {
   "cell_type": "code",
   "execution_count": 30,
   "metadata": {
    "collapsed": false
   },
   "outputs": [
    {
     "data": {
      "text/plain": [
       "<Container object of 233 artists>"
      ]
     },
     "execution_count": 30,
     "metadata": {},
     "output_type": "execute_result"
    },
    {
     "data": {
      "image/png": "[encoded data removed]",
      "text/plain": [
       "<matplotlib.figure.Figure at 0x7ffac02c1828>"
      ]
     },
     "metadata": {},
     "output_type": "display_data"
    }
   ],
   "source": [
    "counts = sentence_lengths(\"reason.txt\")\n",
    "y = counts_for_plotting(counts)\n",
    "plt.bar(range(1,len(y)+1), y, width=1, linewidth=0)"
   ]
  },
  {
   "cell_type": "code",
   "execution_count": null,
   "metadata": {
    "collapsed": true
   },
   "outputs": [],
   "source": [
    "def clean_for_sentence(text):\n",
    "    result = \"\"\n",
    "    for character in text:\n",
    "        if character.isalpha():\n",
    "            result += character\n",
    "        elif character in \".?!\":\n",
    "            # all of these end sentences, replace with . so we can split on this\n",
    "            result += \".\"\n",
    "        else:\n",
    "            result += \" \"\n",
    "    return result\n",
    "            \n",
    "def word_length_vs_sentence_length(filename):\n",
    "    text = open(filename,\"r\").read()\n",
    "    text = clean_for_sentence(text)\n",
    "    sentence_lengths = []\n",
    "    longest_word_lengths = []\n",
    "    for sentence in text.split(\".\"):\n",
    "        words = sentence.split()\n",
    "        if len(words) > 0:\n",
    "            longest_word_lengths.append(max(len(word) for word in words))\n",
    "            sentence_lengths.append(len(words))\n",
    "    return longest_word_lengths, sentence_lengths"
   ]
  },
  {
   "cell_type": "code",
   "execution_count": null,
   "metadata": {
    "collapsed": true
   },
   "outputs": [],
   "source": [
    "w_lengths, s_lengths = word_length_vs_sentence_length(\"reason.txt\")\n",
    "plt.scatter(w_lengths, s_lengths, s=2, alpha=0.2, color='black')\n",
    "plt.xlabel(\"Length of longest word\")\n",
    "plt.ylabel(\"Length of sentence\")\n",
    "plt.ylim(0,200)"
   ]
  },
  {
   "cell_type": "code",
   "execution_count": null,
   "metadata": {
    "collapsed": true
   },
   "outputs": [],
   "source": [
    "a = plt.hist2d(w_lengths, s_lengths, bins=(max(w_lengths),max(s_lengths)/4))\n",
    "plt.grid(False)"
   ]
  }
 ],
 "metadata": {
  "anaconda-cloud": {},
  "kernelspec": {
   "display_name": "Python [default]",
   "language": "python",
   "name": "python3"
  },
  "language_info": {
   "codemirror_mode": {
    "name": "ipython",
    "version": 3
   },
   "file_extension": ".py",
   "mimetype": "text/x-python",
   "name": "python",
   "nbconvert_exporter": "python",
   "pygments_lexer": "ipython3",
   "version": "3.5.2"
  }
 },
 "nbformat": 4,
 "nbformat_minor": 1
}
