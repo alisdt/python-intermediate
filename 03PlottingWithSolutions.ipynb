{
 "cells": [
  {
   "cell_type": "markdown",
   "metadata": {},
   "source": [
    "## This session\n",
    "\n",
    "In this session we'll first take a look at some of the shortcuts in JupyterHub -- see worksheet B2.\n",
    "\n",
    "In some of the exercises below, you have a choice of whether to use an existing solution to an exercise or program your own. This is entirely up to you -- making use of code written by others is very common, so this is an exercise in itself!\n",
    "\n",
    "The main point of this session is to practice plotting data. If you get stuck with the extra exercises to generate data, please do use the solution so you can continue."
   ]
  },
  {
   "cell_type": "markdown",
   "metadata": {},
   "source": [
    "## Plotting data\n",
    "\n",
    "Building on our previous example, let's get some data that we can plot.\n",
    "\n",
    "Let's try to plot:\n",
    "\n",
    "* A histogram of word lengths -- how many 1-letter, 2-letter, 3-letter words etc.\n",
    "* A histogram of sentence lengths (number of words)\n",
    "* A plot which compares the length a sentence against the length of the longest word in that sentence.\n",
    "\n",
    "We need to generate some data! For our first example, the data will be counts of each word length (how many 1-letter, 2-letter, 3-letter words etc.)\n",
    "\n",
    "As before `Counter` will do this for us. Here's a function to generate the data:"
   ]
  },
  {
   "cell_type": "code",
   "execution_count": 4,
   "metadata": {},
   "outputs": [],
   "source": [
    "from collections import Counter\n",
    "\n",
    "def word_length_counts(text):\n",
    "    words = text.split()\n",
    "    lengths = [len(word) for word in words]\n",
    "    return Counter(lengths)"
   ]
  },
  {
   "cell_type": "markdown",
   "metadata": {},
   "source": [
    "Try this out:"
   ]
  },
  {
   "cell_type": "code",
   "execution_count": 5,
   "metadata": {},
   "outputs": [
    {
     "name": "stdout",
     "output_type": "stream",
     "text": [
      "Counter({4: 3, 2: 2, 1: 1, 6: 1, 7: 1})\n"
     ]
    }
   ],
   "source": [
    "print(word_length_counts(\"This is a test of word length counts!\"))"
   ]
  },
  {
   "cell_type": "markdown",
   "metadata": {},
   "source": [
    "## List comprehensions\n",
    "\n",
    "The function above introduces a new Python structure called a *list comprehension*. This list comprehension:\n",
    "\n",
    "```python\n",
    "lengths = [len(word) for word in words]\n",
    "```\n",
    "\n",
    "is equivalent to:\n",
    "\n",
    "```python\n",
    "lengths = []\n",
    "for word in words:\n",
    "    lengths.append(len(word))\n",
    "```\n",
    "\n",
    "The meaning in each case is \"calculate the length of each `word` in `words`\".\n",
    "\n",
    "There's more detail and an exercise on this in worksheet A3."
   ]
  },
  {
   "cell_type": "markdown",
   "metadata": {},
   "source": [
    "## A first data plot\n",
    "\n",
    "Let's look at making a scatter plot of some data points. Here's the documentation:\n",
    "\n",
    "https://matplotlib.org/stable/api/_as_gen/matplotlib.pyplot.scatter.html#matplotlib.pyplot.scatter\n",
    "\n",
    "By convention we import `matplotlib` as:\n",
    "\n",
    "```python\n",
    "import matplotlib.pyplot as plt\n",
    "```\n",
    "\n",
    "The use of `as` means that we refer to `plt` rather than `matplotlib.pyplot`.\n",
    "\n",
    "So instead of calling the function for a plot like this:\n",
    "\n",
    "```python\n",
    "matplotlib.pyplot.scatter(....\n",
    "```\n",
    "\n",
    "we can call it like this:\n",
    "\n",
    "```python\n",
    "plt.scatter(....\n",
    "```\n",
    "\n",
    "This makes the code more succinct.\n",
    "\n",
    "Here's an example of making a plot:\n",
    "\n",
    "```python\n",
    "%matplotlib inline\n",
    "import matplotlib.pyplot as plt\n",
    "x_data = [1, 2, 3, 4, 5]\n",
    "y_data = [16, 4, 2, 8, 1]\n",
    "plt.scatter(x_data, y_data, color=\"red\")\n",
    "```\n",
    "\n",
    "Try it out! Note the important line:\n",
    "\n",
    "```python\n",
    "%matplotlib inline\n",
    "```\n",
    "\n",
    "This tells Jupyter to show the plot inside the notebook."
   ]
  },
  {
   "cell_type": "code",
   "execution_count": 1,
   "metadata": {
    "scrolled": true
   },
   "outputs": [
    {
     "data": {
      "text/plain": [
       "<matplotlib.collections.PathCollection at 0x7fe71849b880>"
      ]
     },
     "execution_count": 1,
     "metadata": {},
     "output_type": "execute_result"
    },
    {
     "data": {
      "image/png": "[encoded data removed]",
      "text/plain": [
       "<Figure size 432x288 with 1 Axes>"
      ]
     },
     "metadata": {
      "needs_background": "light"
     },
     "output_type": "display_data"
    }
   ],
   "source": [
    "%matplotlib inline\n",
    "import matplotlib.pyplot as plt\n",
    "x_data = [1, 2, 3, 4, 5]\n",
    "y_data = [16, 4, 2, 8, 1]\n",
    "plt.scatter(x_data, y_data, color=\"red\")"
   ]
  },
  {
   "cell_type": "markdown",
   "metadata": {},
   "source": [
    "## Everything is data\n",
    "\n",
    "As you might expect we can use data for more than just the `x` and `y` coordinates in the plot. What if we have a third variable that we want to represent somehow?\n",
    "\n",
    "For example, we can use the size of the marker to show a third variable:\n",
    "\n",
    "```python\n",
    "q_data = [80, 18, 42, 22, 33]\n",
    "plt.scatter(x_data, y_data, s=q_data)\n",
    "```"
   ]
  },
  {
   "cell_type": "code",
   "execution_count": 2,
   "metadata": {},
   "outputs": [
    {
     "data": {
      "text/plain": [
       "<matplotlib.collections.PathCollection at 0x7fe710351730>"
      ]
     },
     "execution_count": 2,
     "metadata": {},
     "output_type": "execute_result"
    },
    {
     "data": {
      "image/png": "[encoded data removed]",
      "text/plain": [
       "<Figure size 432x288 with 1 Axes>"
      ]
     },
     "metadata": {
      "needs_background": "light"
     },
     "output_type": "display_data"
    }
   ],
   "source": [
    "q_data = [80, 18, 42, 22, 33]\n",
    "plt.scatter(x_data, y_data, s=q_data)"
   ]
  },
  {
   "cell_type": "markdown",
   "metadata": {},
   "source": [
    "## Exercise: Real data!\n",
    "\n",
    "First, run the function defined above, `word_length_counts()`, on our example text file, `reason.txt`. Keep the `Counter` you get as a result in a variable called `counts`."
   ]
  },
  {
   "cell_type": "code",
   "execution_count": 8,
   "metadata": {},
   "outputs": [],
   "source": [
    "input_file = open(\"reason.txt\",\"r\")\n",
    "text = input_file.read()\n",
    "counts = word_length_counts(text)"
   ]
  },
  {
   "cell_type": "markdown",
   "metadata": {},
   "source": [
    "Remember that this `Counter` is similar to a Python dictionary. To plot it as a histogram, we can use a `matplotlib` bar chart. (`matplotlib` does have a histogram function more suitable for continuous data).\n",
    "\n",
    "The `matplotlib` `bar()` function, though, is just expecting two lists of numbers! Here's an example, try it out:\n",
    "\n",
    "```python\n",
    "plt.bar([1, 2, 3, 4, 5],[99, 74, 33, 12, 18])\n",
    "```"
   ]
  },
  {
   "cell_type": "code",
   "execution_count": 9,
   "metadata": {},
   "outputs": [
    {
     "data": {
      "text/plain": [
       "<BarContainer object of 5 artists>"
      ]
     },
     "execution_count": 9,
     "metadata": {},
     "output_type": "execute_result"
    },
    {
     "data": {
      "image/png": "[encoded data removed]",
      "text/plain": [
       "<Figure size 432x288 with 1 Axes>"
      ]
     },
     "metadata": {
      "needs_background": "light"
     },
     "output_type": "display_data"
    }
   ],
   "source": [
    "plt.bar([1, 2, 3, 4, 5],[99, 74, 33, 12, 18])"
   ]
  },
  {
   "cell_type": "markdown",
   "metadata": {},
   "source": [
    "So we have data in this format:\n",
    "\n",
    "```\n",
    "Counter({1: 5, 2: 22, 3: 16, 4: 23, 5: 12, 7: 9, 8: 13, 9: 8})\n",
    "```\n",
    "\n",
    "and we want a list of counts:\n",
    "\n",
    "```python\n",
    "data = [5, 22, 16, 23, 12, 0, 9, 13, 8]\n",
    "```\n",
    "\n",
    "Note that there isn't a count for 6-letter words! So in the list the sixth entry must be zero. To plot this, we'd give this list (the heights of the bars) along with a list of sequential values for the positions of the bars (just the whole numbers starting from 1):\n",
    "\n",
    "```python\n",
    "plt.bar([1, 2, 3, 4, 5, 6, 7, 8, 9], data)\n",
    "```\n",
    "\n",
    "You may remember that we can use `range()` instead of this first list:\n",
    "\n",
    "```python\n",
    "plt.bar(range(1,10), data)\n",
    "```"
   ]
  },
  {
   "cell_type": "code",
   "execution_count": null,
   "metadata": {},
   "outputs": [],
   "source": []
  },
  {
   "cell_type": "markdown",
   "metadata": {},
   "source": [
    "## Converting data\n",
    "\n",
    "In order to plot our data, it needs to be formatted like the lists above. The first list, the x positions of the bars, will just be the numbers from 1 to the number of letters in the longest word.\n",
    "\n",
    "The second list will be the counts of each length of word (number of 1-letter words, 2-letter words, 3-letter words and so on). \n",
    "\n",
    "The following function, `counts_for_plotting`, takes the `Counter` for all the word lengths and returns this second list. (The first list is just a `range()` with the length of the second list, so we don't need to return it)."
   ]
  },
  {
   "cell_type": "code",
   "execution_count": 1,
   "metadata": {},
   "outputs": [],
   "source": [
    "def counts_for_plotting(counts):\n",
    "    return [counts[x] for x in range(max(counts.keys())+1)]"
   ]
  },
  {
   "cell_type": "markdown",
   "metadata": {},
   "source": [
    "## Exercise: Plotting the data\n",
    "\n",
    "Have a look at the documentation for `bar()`:\n",
    "\n",
    "https://matplotlib.org/stable/api/_as_gen/matplotlib.pyplot.bar.html?highlight=bar#matplotlib.pyplot.bar\n",
    "\n",
    "Now that you have your data, you can simply plot it with:\n",
    "\n",
    "```python\n",
    "y = counts_for_plotting(counts)\n",
    "x = range(1,len(y)+1)\n",
    "plt.bar(x, y)\n",
    "```\n",
    "\n",
    "However this isn't a very attractive plot! Some suggestions:\n",
    "\n",
    "* Add a title with `plt.title()`\n",
    "* Change the bar colour\n",
    "* Change the bar width so there isn't a gap between bars\n",
    "* Label the axes with `plt.xlabel()` and `plt.ylabel()`\n",
    "\n",
    "Try these out to finish off your plot."
   ]
  },
  {
   "cell_type": "code",
   "execution_count": 10,
   "metadata": {},
   "outputs": [
    {
     "data": {
      "text/plain": [
       "<BarContainer object of 37 artists>"
      ]
     },
     "execution_count": 10,
     "metadata": {},
     "output_type": "execute_result"
    },
    {
     "data": {
      "image/png": "[encoded data removed]",
      "text/plain": [
       "<Figure size 432x288 with 1 Axes>"
      ]
     },
     "metadata": {
      "needs_background": "light"
     },
     "output_type": "display_data"
    }
   ],
   "source": [
    "y = counts_for_plotting(counts)\n",
    "plt.bar(range(1,len(y)+1), y)"
   ]
  },
  {
   "cell_type": "markdown",
   "metadata": {},
   "source": [
    "## Extra exercise: Sentence lengths\n",
    "\n",
    "For this exercise we're going back a little to last week -- this will generate some more data you can use.\n",
    "\n",
    "Write a function which takes a filename, and counts the number of words per sentence. As above with word lengths, the function should return a `Counter`.\n",
    "\n",
    "For simplicity, assume that:\n",
    "\n",
    "* A sentence is always the text between a full stop \".\" and the next full stop. (If you're able, you could count \"!\" and \"?\" as ending sentences too). \n",
    "* A \"word\" is always the text between a space \" \" and the next space.\n",
    "\n",
    "Some notes:\n",
    "\n",
    "* First think about how you would separate the text into sentences.\n",
    "* Then think about how you would measure the length of each sentence.\n",
    "* Make a list of sentence lengths, then feed it to `Counter`.\n",
    "* You'll use `split()` (a lot).\n",
    "* You could use a text cleaning function if you want, though you'll have to make sure to preserve full stops in the text.\n",
    "* You could use a loop or a list comprehension for this\n",
    "\n",
    "**Note:** As before, you can use the solution to this exercise and just plot the data if you wish:\n",
    "\n",
    "http://softdev.ppls.ed.ac.uk/python/answers.html#7\n"
   ]
  },
  {
   "cell_type": "code",
   "execution_count": 12,
   "metadata": {},
   "outputs": [],
   "source": [
    "# with a loop\n",
    "def sentence_lengths(filename):\n",
    "    f = open(filename,\"r\")\n",
    "    text = f.read()\n",
    "    result = []\n",
    "    for sentence in text.split(\".\"):\n",
    "        words = sentence.split()\n",
    "        result.append(len(words))\n",
    "    return Counter(result)\n",
    "\n",
    "# with a list comprehension\n",
    "def sentence_lengths(filename):\n",
    "    text = open(filename,\"r\").read()\n",
    "    return Counter([len(sentence.split()) for sentence in text.split(\".\")])       "
   ]
  },
  {
   "cell_type": "markdown",
   "metadata": {},
   "source": [
    "Now you can:\n",
    "\n",
    "* use `counts_for_plotting()` to get the data in a format you can plot\n",
    "* plot this the same way as the word lengths, using a histogram."
   ]
  },
  {
   "cell_type": "code",
   "execution_count": 13,
   "metadata": {},
   "outputs": [
    {
     "data": {
      "text/plain": [
       "<BarContainer object of 233 artists>"
      ]
     },
     "execution_count": 13,
     "metadata": {},
     "output_type": "execute_result"
    },
    {
     "data": {
      "image/png": "[encoded data removed]",
      "text/plain": [
       "<Figure size 432x288 with 1 Axes>"
      ]
     },
     "metadata": {
      "needs_background": "light"
     },
     "output_type": "display_data"
    }
   ],
   "source": [
    "counts = sentence_lengths(\"reason.txt\")\n",
    "y = counts_for_plotting(counts)\n",
    "plt.bar(range(1,len(y)+1), y, width=1, linewidth=0)"
   ]
  },
  {
   "cell_type": "markdown",
   "metadata": {},
   "source": [
    "## Advanced exercise: Length of the sentence vs. length of longest word\n",
    "\n",
    "Write a function which returns two lists, one of sentence length, and one of the longest word in the sentence. So for example:\n",
    "\n",
    "   ```python\n",
    "w_lengths, s_lengths = word_sentence_lengths(\"I wandered lonely as a cloud. No, really.\")\n",
    "```\n",
    "\n",
    "   will give:\n",
    "\n",
    "   ```python\n",
    "   w_lengths = [8, 6]\n",
    "   s_lengths = [6, 2]\n",
    "```\n",
    "\n",
    "   So each list has an entry for each sentence; `s_lengths` has the length of the sentence, and `w_lengths` has the length of the longest word.\n",
    "   \n",
    "**Note:** As before, you can use the solution to this exercise and just plot the data if you wish.\n",
    "\n",
    "http://softdev.ppls.ed.ac.uk/python/answers.html#8\n"
   ]
  },
  {
   "cell_type": "code",
   "execution_count": 14,
   "metadata": {},
   "outputs": [],
   "source": [
    "def clean_for_sentence(text):\n",
    "    result = \"\"\n",
    "    for character in text:\n",
    "        if character.isalpha():\n",
    "            result += character\n",
    "        elif character in \".?!\":\n",
    "            # all of these end sentences, replace with . so we can split on this\n",
    "            result += \".\"\n",
    "        else:\n",
    "            result += \" \"\n",
    "    return result\n",
    "            \n",
    "def word_length_vs_sentence_length(filename):\n",
    "    text = open(filename,\"r\").read()\n",
    "    text = clean_for_sentence(text)\n",
    "    sentence_lengths = []\n",
    "    longest_word_lengths = []\n",
    "    for sentence in text.split(\".\"):\n",
    "        words = sentence.split()\n",
    "        if len(words) > 0:\n",
    "            longest_word_lengths.append(max(len(word) for word in words))\n",
    "            sentence_lengths.append(len(words))\n",
    "    return longest_word_lengths, sentence_lengths"
   ]
  },
  {
   "cell_type": "markdown",
   "metadata": {},
   "source": [
    "## Plotting longest word length vs. sentence length\n",
    "\n",
    "Now you have the data, produce a scatter plot. This should give us an idea what the relationship is between word length and the length of the sentence it's in.\n",
    "\n",
    "As above, look at what will make the plot look better and the shape of the data clearer. In particular:\n",
    "\n",
    "* The size of the scatter markers\n",
    "* Colour\n",
    "* Opacity (you can make the markers translucent, which works better when there are a large number of points)"
   ]
  },
  {
   "cell_type": "code",
   "execution_count": 15,
   "metadata": {},
   "outputs": [
    {
     "data": {
      "text/plain": [
       "(0.0, 200.0)"
      ]
     },
     "execution_count": 15,
     "metadata": {},
     "output_type": "execute_result"
    },
    {
     "data": {
      "image/png": "[encoded data removed]",
      "text/plain": [
       "<Figure size 432x288 with 1 Axes>"
      ]
     },
     "metadata": {
      "needs_background": "light"
     },
     "output_type": "display_data"
    }
   ],
   "source": [
    "w_lengths, s_lengths = word_length_vs_sentence_length(\"reason.txt\")\n",
    "plt.scatter(w_lengths, s_lengths, s=2, alpha=0.2, color='black')\n",
    "plt.xlabel(\"Length of longest word\")\n",
    "plt.ylabel(\"Length of sentence\")\n",
    "plt.ylim(0,200)"
   ]
  },
  {
   "cell_type": "markdown",
   "metadata": {},
   "source": [
    "## Heatmap\n",
    "\n",
    "There are a lot of points here. Even using opacity we don't get a good idea of the density of points with the scatter plot.\n",
    "\n",
    "`matplotlib` can make heatmaps. Have a look at the `hist2d()` function:\n",
    "\n",
    "https://matplotlib.org/stable/api/_as_gen/matplotlib.pyplot.hist2d.html?highlight=hist2d#matplotlib.pyplot.hist2d\n",
    "\n",
    "This is appropriate to these data, as it will calculate the number of data points in each bin of the 2D histogram, as well as plotting the resulting heatmap.\n",
    "\n",
    "Plot a 2D heatmap for the data.\n",
    "\n",
    "Some tips:\n",
    "\n",
    "* Switch the grid off with `plt.grid(False)`\n",
    "* In `hist2d()`, use the parameter `bins=(x_bins, y_bins)` to have a different number of bins in `x` and `y` -- in particular, the number of bins in `x` should be based on the maximum word length!"
   ]
  },
  {
   "cell_type": "code",
   "execution_count": 19,
   "metadata": {},
   "outputs": [
    {
     "data": {
      "image/png": "[encoded data removed]",
      "text/plain": [
       "<Figure size 432x288 with 1 Axes>"
      ]
     },
     "metadata": {
      "needs_background": "light"
     },
     "output_type": "display_data"
    }
   ],
   "source": [
    "a = plt.hist2d(w_lengths, s_lengths, bins=(max(w_lengths),int(max(s_lengths)/4)))\n",
    "plt.grid(False)"
   ]
  },
  {
   "cell_type": "code",
   "execution_count": null,
   "metadata": {},
   "outputs": [],
   "source": []
  }
 ],
 "metadata": {
  "anaconda-cloud": {},
  "kernelspec": {
   "display_name": "Python 3 (ipykernel)",
   "language": "python",
   "name": "python3"
  },
  "language_info": {
   "codemirror_mode": {
    "name": "ipython",
    "version": 3
   },
   "file_extension": ".py",
   "mimetype": "text/x-python",
   "name": "python",
   "nbconvert_exporter": "python",
   "pygments_lexer": "ipython3",
   "version": "3.9.2"
  }
 },
 "nbformat": 4,
 "nbformat_minor": 1
}
