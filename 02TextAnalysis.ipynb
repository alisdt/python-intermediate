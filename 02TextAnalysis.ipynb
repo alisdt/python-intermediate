{
 "cells": [
  {
   "cell_type": "markdown",
   "metadata": {},
   "source": [
    "## Analysis of a text file\n",
    "\n",
    "The purpose of this section is to write a function with a practical purpose, which is to find out something about the lengths of words in a text file. Let's set a few goals for this session. If we have a text file, let's try to find out:\n",
    "\n",
    "* The number of occurrences of the word 'and'\n",
    "* The number of occurrences of a word we supply to the function\n",
    "* The number of occurrences of *all* words in the text"
   ]
  },
  {
   "cell_type": "markdown",
   "metadata": {},
   "source": [
    "Run the cell below to define the function."
   ]
  },
  {
   "cell_type": "code",
   "execution_count": null,
   "metadata": {
    "collapsed": true
   },
   "outputs": [],
   "source": [
    "def count_and(filename):\n",
    "    # Open the file. Here f is a \"file object\", which acts like a bookmark in the file\n",
    "    f = open(filename,\"r\")\n",
    "    # Read all the text from the file\n",
    "    text = f.read()\n",
    "    # Count all the occurences of the word \"the\"\n",
    "    total = 0\n",
    "    for word in text.split(): # for each word ....\n",
    "        # .... if we find the word, add one to the total\n",
    "        if word == \"and\":\n",
    "            total += 1\n",
    "    return total"
   ]
  },
  {
   "cell_type": "markdown",
   "metadata": {},
   "source": [
    "Now run the next cell to test it"
   ]
  },
  {
   "cell_type": "code",
   "execution_count": null,
   "metadata": {
    "collapsed": false
   },
   "outputs": [],
   "source": [
    "print(count_and(\"reason.txt\"))"
   ]
  },
  {
   "cell_type": "markdown",
   "metadata": {},
   "source": [
    "## Exercise: Count a different word\n",
    "\n",
    "Write a function that counts the word \"therefore\" instead. Feel free to use the function above as a base for this. The start of the function definition is written below, to start you off."
   ]
  },
  {
   "cell_type": "code",
   "execution_count": null,
   "metadata": {
    "collapsed": true
   },
   "outputs": [],
   "source": [
    "def count_therefore(filename):\n",
    "    # Open the file. Here f is a \"file object\", which acts like a bookmark in the file\n",
    "    f = open(filename,\"r\")\n",
    "    # Read all the text from the file\n",
    "    text = f.read()\n",
    "    # ADD MORE CODE HERE"
   ]
  },
  {
   "cell_type": "markdown",
   "metadata": {},
   "source": [
    "Again, remember that when you've finished editing it, you have to use Shift-Enter to tell Jupyter to re-run the cell. Now try it out:"
   ]
  },
  {
   "cell_type": "code",
   "execution_count": null,
   "metadata": {
    "collapsed": false
   },
   "outputs": [],
   "source": [
    "print(count_therefore(\"reason.txt\"))"
   ]
  },
  {
   "cell_type": "markdown",
   "metadata": {},
   "source": [
    "## Exercise: count *any* word\n",
    "\n",
    "Here's another copy of the function. This time, change it so that you can ask it to count any word. Rather than having the target word specified in the code, it will be passed in to the function. So for example, calling:\n",
    "\n",
    "```python\n",
    "count_any(filename, 'serious')\n",
    "```\n",
    "\n",
    "will count the occurrences of the word 'serious' in the given file."
   ]
  },
  {
   "cell_type": "code",
   "execution_count": null,
   "metadata": {
    "collapsed": true
   },
   "outputs": [],
   "source": [
    "def count_any(filename):\n",
    "    # Open the file. Here f is a \"file object\", which acts like a bookmark in the file\n",
    "    f = open(filename,\"r\")\n",
    "    # Read all the text from the file\n",
    "    text = f.read()\n",
    "    # ADD MORE CODE HERE"
   ]
  },
  {
   "cell_type": "markdown",
   "metadata": {},
   "source": [
    "Now try it out -- once you've run it for \"serious\", go back and try it with a few different words."
   ]
  },
  {
   "cell_type": "code",
   "execution_count": null,
   "metadata": {
    "collapsed": false
   },
   "outputs": [],
   "source": [
    "print(count_any(\"reason.txt\", \"serious\"))"
   ]
  },
  {
   "cell_type": "markdown",
   "metadata": {},
   "source": [
    "## Exercise: Count *all* words\n",
    "\n",
    "Before this exercise you should be familiar with Python dictionaries. If you're not, please see Worksheet A2.\n",
    "\n",
    "We could do this by:\n",
    "\n",
    "* getting a big list of words\n",
    "* calling count_any with each word in turn\n",
    "\n",
    "This would be very time-consuming, though, as it would go through the whole file once for each word! So let's try a different approach.\n",
    "\n",
    "Fortunately, Python provides us with a simple way of counting values. Take a look at the documentation here:\n",
    "\n",
    "https://docs.python.org/3/library/collections.html#collections.Counter\n",
    "\n",
    "Try this:\n",
    "\n",
    "```python\n",
    "from collections import Counter\n",
    "c = Counter()\n",
    "```\n",
    "\n",
    "Then add some items to your counter:\n",
    "\n",
    "```python\n",
    "c.update(['chips', 'peas', 'beans', 'carrots', 'chips', 'carrots', 'chips', 'spinach', 'carrots'])\n",
    "```"
   ]
  },
  {
   "cell_type": "code",
   "execution_count": null,
   "metadata": {
    "collapsed": true
   },
   "outputs": [],
   "source": []
  },
  {
   "cell_type": "markdown",
   "metadata": {},
   "source": [
    "The counter has counted these items, but it doesn't give you a result. If you print your counter,\n",
    "\n",
    "```python\n",
    "print(c)\n",
    "```\n",
    "\n",
    "you'll see that it's similar to a dictionary. You can get values out in the same way as a dictionary. For example, to see the number of occurrences counted of \"chips\":\n",
    "\n",
    "```python\n",
    "print(c[\"chips\"])\n",
    "```"
   ]
  },
  {
   "cell_type": "code",
   "execution_count": null,
   "metadata": {
    "collapsed": false
   },
   "outputs": [],
   "source": []
  },
  {
   "cell_type": "markdown",
   "metadata": {},
   "source": [
    "Finally, let's write a function to count the number of occurrences for each word in a file.\n",
    "\n",
    "Change the code below to return a Counter that has been updated with all the words in the file. You don't need a loop for this function."
   ]
  },
  {
   "cell_type": "code",
   "execution_count": null,
   "metadata": {
    "collapsed": true
   },
   "outputs": [],
   "source": [
    "def count_all(filename):\n",
    "    # Open the file. Here f is a \"file object\", which acts like a bookmark in the file\n",
    "    f = open(filename,\"r\")\n",
    "    # Read all the text from the file\n",
    "    text = f.read()\n",
    "    # ADD MORE CODE HERE"
   ]
  },
  {
   "cell_type": "markdown",
   "metadata": {},
   "source": [
    "Now run your code:"
   ]
  },
  {
   "cell_type": "code",
   "execution_count": null,
   "metadata": {
    "collapsed": false
   },
   "outputs": [],
   "source": [
    "print(count_all(\"reason.txt\"))"
   ]
  },
  {
   "cell_type": "markdown",
   "metadata": {},
   "source": [
    "There's a lot there! Fortunately you can get the most common words and their frequencies from the Counter, using its `most_common()` method. The documentation is here:\n",
    "\n",
    "https://docs.python.org/3/library/collections.html#collections.Counter.most_common\n",
    "\n",
    "Try it:"
   ]
  },
  {
   "cell_type": "code",
   "execution_count": null,
   "metadata": {
    "collapsed": true
   },
   "outputs": [],
   "source": [
    "c = count_all(\"reason.txt\")\n",
    "print(c.most_common())"
   ]
  },
  {
   "cell_type": "markdown",
   "metadata": {},
   "source": [
    "## Extra exercise: Cleaning up\n",
    "\n",
    "In the counts there will be \"words\" that throw off the count. For example, the first real sentence in `reason.txt` is:\n",
    "\n",
    "> Human reason, in one sphere of its cognition, is called upon to consider\n",
    "questions, which it cannot decline, as they are presented by its own\n",
    "nature, but which it cannot answer, as they transcend every faculty of\n",
    "the mind.\n",
    "\n",
    "Unless you've specially accounted for it, the Counter will see the last word in that sentence as \"mind.\" -- which means when \"mind\" occurs in the middle of a sentence elsewhere, it will be counted separately, with two entries in the Counter. You can check this:\n",
    "\n",
    "```python\n",
    "c = count_all(\"reason.txt\")\n",
    "print(c[\"mind.\"])\n",
    "print(c[\"mind\"])\n",
    "```\n",
    "\n",
    "The same thing will happen where there is a comma after a word -- for example \"cognition\" (and others) in the example sentence above.\n",
    "\n",
    "In order to fix this it would be good to \"clean up\" the words before they are counted. Have a look at Python's string methods for ways of doing this:\n",
    "\n",
    "https://docs.python.org/3/library/stdtypes.html#string-methods\n",
    "\n",
    "There are a few ways to do this. Here some things to consider:\n",
    "\n",
    "* Consider writing a separate function to clean text, which you will call from `count_all()`. Then you can run it separately when testing.\n",
    "* Can you clean up the whole text, before you split it into separate words?\n",
    "* Are there any cases where cleaning up the text could have ambiguous results. (Example: how will you deal with hyphenated words?)"
   ]
  },
  {
   "cell_type": "code",
   "execution_count": null,
   "metadata": {
    "collapsed": true
   },
   "outputs": [],
   "source": []
  },
  {
   "cell_type": "markdown",
   "metadata": {},
   "source": [
    "## Extra exercise: The longest word\n",
    "\n",
    "Create a function to find and return the longest word. As in the first couple of exercises, start by opening the file, and create a loop through all the words in the file. Keep track of the current longest word, and its length. At the end, return the longest word."
   ]
  },
  {
   "cell_type": "code",
   "execution_count": null,
   "metadata": {
    "collapsed": true
   },
   "outputs": [],
   "source": []
  }
 ],
 "metadata": {
  "anaconda-cloud": {},
  "kernelspec": {
   "display_name": "Python [default]",
   "language": "python",
   "name": "python3"
  },
  "language_info": {
   "codemirror_mode": {
    "name": "ipython",
    "version": 3
   },
   "file_extension": ".py",
   "mimetype": "text/x-python",
   "name": "python",
   "nbconvert_exporter": "python",
   "pygments_lexer": "ipython3",
   "version": "3.5.2"
  }
 },
 "nbformat": 4,
 "nbformat_minor": 1
}
