{
 "cells": [
  {
   "cell_type": "markdown",
   "metadata": {},
   "source": [
    "## Tuples\n",
    "\n",
    "A *tuple* in Python is very similar to a list. The difference is that a tuple can't be modified after it is created. A tuple is written with round brackets:\n",
    "\n",
    "```python\n",
    "my_tuple = (13, \"moo\", 8.5)\n",
    "```\n",
    "Create a list and a tuple with the same contents.\n",
    "\n",
    "```python\n",
    "my_list = [42, \"a\", 0, 100]\n",
    "my_tuple = (42, \"a\", 0, 100)\n",
    "```"
   ]
  },
  {
   "cell_type": "code",
   "execution_count": null,
   "metadata": {
    "collapsed": true
   },
   "outputs": [],
   "source": []
  },
  {
   "cell_type": "markdown",
   "metadata": {},
   "source": [
    "Now change the first element of the list:\n",
    "\n",
    "```python\n",
    "my_list[0] = \"first thing\"\n",
    "```\n",
    "\n",
    "and then print the list, to show the change it has made:\n",
    "\n",
    "```python\n",
    "print(my_list)\n",
    "```"
   ]
  },
  {
   "cell_type": "code",
   "execution_count": null,
   "metadata": {
    "collapsed": false
   },
   "outputs": [],
   "source": []
  },
  {
   "cell_type": "markdown",
   "metadata": {},
   "source": [
    "Try the same thing with the tuple:\n",
    "\n",
    "```python\n",
    "my_tuple[0] = \"first thing\"\n",
    "```"
   ]
  },
  {
   "cell_type": "code",
   "execution_count": null,
   "metadata": {
    "collapsed": false
   },
   "outputs": [],
   "source": []
  },
  {
   "cell_type": "markdown",
   "metadata": {},
   "source": [
    "Similarly, you can add something to the list:\n",
    "\n",
    "```python\n",
    "my_list.append(\"new thing\")\n",
    "```\n",
    "\n",
    "As before, print the list, to show the change it has made:\n",
    "\n",
    "```python\n",
    "print(my_list)\n",
    "```"
   ]
  },
  {
   "cell_type": "code",
   "execution_count": null,
   "metadata": {
    "collapsed": false
   },
   "outputs": [],
   "source": []
  },
  {
   "cell_type": "markdown",
   "metadata": {},
   "source": [
    "Again, try the same thing with the tuple:\n",
    "\n",
    "```python\n",
    "my_tuple.append(\"new thing\")\n",
    "```"
   ]
  },
  {
   "cell_type": "code",
   "execution_count": null,
   "metadata": {
    "collapsed": false
   },
   "outputs": [],
   "source": []
  },
  {
   "cell_type": "markdown",
   "metadata": {},
   "source": [
    "## Tuples in function return\n",
    "\n",
    "A tuple is a good way to return multiple values from a function.\n",
    "\n",
    "Here's a function that takes a list of numbers, and returns the length of the list and the sum of the numbers:\n",
    "\n",
    "```python\n",
    "def lensum(numbers):\n",
    "    return (len(numbers), sum(numbers))\n",
    "```\n",
    "\n",
    "Where it doesn't cause ambiguity, Python allows us to remove the brackets around a tuple, so this can be written:\n",
    "\n",
    "```python\n",
    "def lensum(numbers):\n",
    "    return len(numbers), sum(numbers)\n",
    "```"
   ]
  },
  {
   "cell_type": "code",
   "execution_count": null,
   "metadata": {
    "collapsed": true
   },
   "outputs": [],
   "source": []
  },
  {
   "cell_type": "markdown",
   "metadata": {},
   "source": [
    "Now the function is defined, how do we get the answers out? In Python you can put a tuple on the left hand side of an assignment as well, so this works:\n",
    "\n",
    "```python\n",
    "(length, total) = lensum([1, 2, 4, 8])\n",
    "```\n",
    "\n",
    "As previously noted, the brackets are not compulsory, so you can do this:\n",
    "\n",
    "```python\n",
    "length, total = lensum([1, 2, 4, 8])\n",
    "```"
   ]
  },
  {
   "cell_type": "code",
   "execution_count": null,
   "metadata": {
    "collapsed": true
   },
   "outputs": [],
   "source": []
  }
 ],
 "metadata": {
  "anaconda-cloud": {},
  "kernelspec": {
   "display_name": "Python [default]",
   "language": "python",
   "name": "python3"
  },
  "language_info": {
   "codemirror_mode": {
    "name": "ipython",
    "version": 3
   },
   "file_extension": ".py",
   "mimetype": "text/x-python",
   "name": "python",
   "nbconvert_exporter": "python",
   "pygments_lexer": "ipython3",
   "version": "3.5.2"
  }
 },
 "nbformat": 4,
 "nbformat_minor": 1
}
