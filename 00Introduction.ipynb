{
 "cells": [
  {
   "cell_type": "markdown",
   "metadata": {},
   "source": [
    "### Welcome!\n",
    "\n",
    "* This is an informal session\n",
    "* It's a training session, there's no exam (and no course credit!)\n",
    "* This course assumes that you have some programming experience in Python, or a similar language\n",
    "* Should be about 1/4 me talking, 1/4 questions and discussion, and 1/2 exercises\n",
    "* Questions are always welcome at any time"
   ]
  },
  {
   "cell_type": "markdown",
   "metadata": {},
   "source": [
    "### Purpose\n",
    "\n",
    "* This course aims to build on your existing skills in Python\n",
    "* It will teach you about many common software libraries used in Python\n",
    "* It is **not** a course for beginners (though we have one of those if you need it!)"
   ]
  },
  {
   "cell_type": "markdown",
   "metadata": {},
   "source": [
    "### Failure\n",
    "\n",
    "* Computer programming involves lots of failure\n",
    "* Usually you have to fail several times to succeed once\n",
    "* This is ok and happens to everyone\n",
    "* Most of the time there will be an error message, which will give you a clue to the solution for the problem"
   ]
  },
  {
   "cell_type": "markdown",
   "metadata": {},
   "source": [
    "### Practicalities\n",
    "\n",
    "* In this course we're using the Python programming language and the Jupyter Notebook environment\n",
    "* If you experience any problems with this, let us know"
   ]
  },
  {
   "cell_type": "markdown",
   "metadata": {},
   "source": [
    "### If you get stuck with the exercises\n",
    "\n",
    "* Ask for help!\n",
    "* Feel free to help each other\n",
    "* Read ahead, try the next exercise and see if that helps"
   ]
  },
  {
   "cell_type": "markdown",
   "metadata": {},
   "source": [
    "### If you've finished the exercises\n",
    "\n",
    "* You can always move on to the next worksheet\n",
    "* There are extra exercises later on"
   ]
  },
  {
   "cell_type": "markdown",
   "metadata": {},
   "source": [
    "### First steps in Jupyter\n",
    "\n",
    "In Jupyter, each notebook is composed of a number of text boxes called **cells**. You can write Python program code in these cells. To select a cell click on it. When you hold Shift and press Enter (Shift-Enter) the program code will run."
   ]
  },
  {
   "cell_type": "markdown",
   "metadata": {},
   "source": [
    "Try this, type the following in the cell below, and then press Shift-Enter:\n",
    "\n",
    "```python\n",
    "print(\"Hello world\")\n",
    "```"
   ]
  },
  {
   "cell_type": "code",
   "execution_count": null,
   "metadata": {
    "collapsed": false
   },
   "outputs": [],
   "source": [
    "print(\"Hello world\")"
   ]
  },
  {
   "cell_type": "markdown",
   "metadata": {
    "collapsed": false
   },
   "source": [
    "A cell can contain more than one line, like this:\n",
    "\n",
    "```python\n",
    "print(\"Please type something in here\")\n",
    "print('But feel free to use your own words!')\n",
    "```\n",
    "Try it! Note that text can be enclosed by single or double quotes."
   ]
  },
  {
   "cell_type": "code",
   "execution_count": null,
   "metadata": {
    "collapsed": false
   },
   "outputs": [],
   "source": []
  },
  {
   "cell_type": "markdown",
   "metadata": {},
   "source": [
    "### Saving your work\n",
    "\n",
    "To save your work, click on the disk icon at the top-left of the notebook.\n",
    "\n",
    "Notebooks also save themselves automatically at regular intervals, usually every few minutes."
   ]
  }
 ],
 "metadata": {
  "anaconda-cloud": {},
  "kernelspec": {
   "display_name": "Python [default]",
   "language": "python",
   "name": "python3"
  },
  "language_info": {
   "codemirror_mode": {
    "name": "ipython",
    "version": 3
   },
   "file_extension": ".py",
   "mimetype": "text/x-python",
   "name": "python",
   "nbconvert_exporter": "python",
   "pygments_lexer": "ipython3",
   "version": "3.5.2"
  }
 },
 "nbformat": 4,
 "nbformat_minor": 0
}
