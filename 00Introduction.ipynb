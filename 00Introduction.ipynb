{
 "cells": [
  {
   "cell_type": "markdown",
   "metadata": {
    "slideshow": {
     "slide_type": "slide"
    }
   },
   "source": [
    "### Welcome!\n",
    "\n",
    "* Informal training course\n",
    "* No exam, no course credit\n",
    "* Assumes some experience in Python or similar\n",
    "* Questions welcome at any time"
   ]
  },
  {
   "cell_type": "markdown",
   "metadata": {
    "slideshow": {
     "slide_type": "slide"
    }
   },
   "source": [
    "### Purpose\n",
    "\n",
    "* Build on your existing skills\n",
    "* Learn about common Python software libraries\n",
    "* **Not** a course for beginners\n",
    "* (though we have one ....)"
   ]
  },
  {
   "cell_type": "markdown",
   "metadata": {
    "slideshow": {
     "slide_type": "slide"
    }
   },
   "source": [
    "### Structure\n",
    "\n",
    "* 01-07: main body of the course\n",
    "* A1-A3: optional extra topics\n",
    "* B1-B2: how to find info & use Jupyter Notebook\n",
    "* Intro to Python materials for practice with basic concepts (see next worksheet)"
   ]
  },
  {
   "cell_type": "markdown",
   "metadata": {
    "slideshow": {
     "slide_type": "slide"
    }
   },
   "source": [
    "### Failure\n",
    "\n",
    "* Computer programming involves lots of failure\n",
    "* Fail many times, succeed once\n",
    "* Ok and happens to everyone!\n",
    "* Error messages give you clues"
   ]
  },
  {
   "cell_type": "markdown",
   "metadata": {
    "slideshow": {
     "slide_type": "slide"
    }
   },
   "source": [
    "### Practicalities\n",
    "\n",
    "* Python programming language\n",
    "* Jupyter Notebook environment\n",
    "* Noteable service"
   ]
  },
  {
   "cell_type": "markdown",
   "metadata": {
    "slideshow": {
     "slide_type": "slide"
    }
   },
   "source": [
    "### If you get stuck\n",
    "\n",
    "* Ask for help!\n",
    "* Can help each other\n",
    "* Read ahead, try next exercise"
   ]
  },
  {
   "cell_type": "markdown",
   "metadata": {
    "slideshow": {
     "slide_type": "slide"
    }
   },
   "source": [
    "### If you've finished\n",
    "\n",
    "* Move on to the next one\n",
    "* Do the optional worksheets\n",
    "* Do the extra exercises\n",
    "* Set yourself a goal ...."
   ]
  },
  {
   "cell_type": "markdown",
   "metadata": {
    "slideshow": {
     "slide_type": "slide"
    }
   },
   "source": [
    "### First steps in Jupyter\n",
    "\n",
    "In Jupyter, each notebook is composed of a number of text boxes called **cells**. You can write Python program code in these cells. To select a cell click on it. When you hold Shift and press Enter (Shift-Enter) the program code will run."
   ]
  },
  {
   "cell_type": "markdown",
   "metadata": {
    "slideshow": {
     "slide_type": "skip"
    }
   },
   "source": [
    "Try this, type the following in the cell below, and then press Shift-Enter:\n",
    "\n",
    "```python\n",
    "print(\"Hello world\")\n",
    "```"
   ]
  },
  {
   "cell_type": "code",
   "execution_count": null,
   "metadata": {
    "slideshow": {
     "slide_type": "skip"
    }
   },
   "outputs": [],
   "source": []
  },
  {
   "cell_type": "markdown",
   "metadata": {
    "slideshow": {
     "slide_type": "skip"
    }
   },
   "source": [
    "A cell can contain more than one line, like this:\n",
    "\n",
    "```python\n",
    "print(\"Please type something in here\")\n",
    "print('But feel free to use your own words!')\n",
    "```\n",
    "Try it! Note that text can be enclosed by single or double quotes."
   ]
  },
  {
   "cell_type": "code",
   "execution_count": null,
   "metadata": {
    "slideshow": {
     "slide_type": "skip"
    }
   },
   "outputs": [],
   "source": []
  },
  {
   "cell_type": "markdown",
   "metadata": {
    "slideshow": {
     "slide_type": "skip"
    }
   },
   "source": [
    "### Saving your work\n",
    "\n",
    "To save your work, click on the disk icon at the top-left of the notebook.\n",
    "\n",
    "Notebooks also save themselves automatically at regular intervals, usually every few minutes."
   ]
  }
 ],
 "metadata": {
  "anaconda-cloud": {},
  "kernelspec": {
   "display_name": "Python 3 (ipykernel)",
   "language": "python",
   "name": "python3"
  },
  "language_info": {
   "codemirror_mode": {
    "name": "ipython",
    "version": 3
   },
   "file_extension": ".py",
   "mimetype": "text/x-python",
   "name": "python",
   "nbconvert_exporter": "python",
   "pygments_lexer": "ipython3",
   "version": "3.9.2"
  }
 },
 "nbformat": 4,
 "nbformat_minor": 1
}
