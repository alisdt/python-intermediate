{
 "cells": [
  {
   "cell_type": "markdown",
   "metadata": {},
   "source": [
    "# Programming &ndash; a quick recap\n",
    "\n",
    "Try out the examples below to remind yourself of some basic programming structures. This will give you a chance to get used to Python, if you haven't used it before. In case you want more practice on these topics, I've given references to worksheets in the [Introduction to Programming with Python](https://softdev.ppls.ed.ac.uk/intro_prog/) course in the text below."
   ]
  },
  {
   "cell_type": "markdown",
   "metadata": {},
   "source": [
    "The purpose of this session is to get everybody to roughly the same level before we start the rest of the course. If you've had enough practice with the material below, feel free to leave early, or move on to the next worksheet ahead of time."
   ]
  },
  {
   "cell_type": "markdown",
   "metadata": {},
   "source": [
    "## Following a turtle?\n",
    "\n",
    "If you followed Intro to Programming with 🐢Turtles🐢 in Semester 1, you'll need to catch up on the following topics from Intro to Programming with Python:\n",
    "\n",
    "* Intro worksheet 05, Formatting\n",
    "* Intro worksheet 11, Lists and Indexing\n",
    "\n",
    "Turtles also doesn't cover the material in worksheets 14, 15 and 16 of the intro, but we don't rely on those in this course."
   ]
  },
  {
   "cell_type": "markdown",
   "metadata": {},
   "source": [
    "## Showing text on the screen\n",
    "\n",
    "To show text on the screen, use the `print` function."
   ]
  },
  {
   "cell_type": "code",
   "execution_count": null,
   "metadata": {},
   "outputs": [],
   "source": [
    "print(\"Hiya!\")"
   ]
  },
  {
   "cell_type": "markdown",
   "metadata": {},
   "source": [
    "## Showing text with a value in\n",
    "\n",
    "Use f-strings to create sentences with values in. Put an `f` before the quote at the start of the string. Use variable names in curly brackets `{varname}` to show the value of that variable in the string.\n",
    "\n",
    "In *Intro to Python*: see worksheet 05, Formatting."
   ]
  },
  {
   "cell_type": "code",
   "execution_count": null,
   "metadata": {},
   "outputs": [],
   "source": [
    "x = 28\n",
    "print(f\"There are {x} things\")"
   ]
  },
  {
   "cell_type": "markdown",
   "metadata": {},
   "source": [
    "## Lists and indexing\n",
    "\n",
    "A list is written with the values separated by commas and enclosed with square brackets. You can get items out of a list using *indexing*. Indexes start at zero, so 0 refers to the first value, 1 the second value, and so on. Negative numbers start from the end of the list, -1 refers to the last item, -2 the second last, and so on.\n",
    "\n",
    "In *Intro to Python*: see worksheet 11, Lists and Indexing."
   ]
  },
  {
   "cell_type": "code",
   "execution_count": null,
   "metadata": {},
   "outputs": [],
   "source": [
    "pets = [\"dog\", \"cat\", \"rabbit\", \"hamster\", \"horse\", \"crocodile\"]"
   ]
  },
  {
   "cell_type": "code",
   "execution_count": null,
   "metadata": {},
   "outputs": [],
   "source": [
    "print(pets[0])"
   ]
  },
  {
   "cell_type": "code",
   "execution_count": null,
   "metadata": {},
   "outputs": [],
   "source": [
    "print(pets[1])"
   ]
  },
  {
   "cell_type": "code",
   "execution_count": null,
   "metadata": {},
   "outputs": [],
   "source": [
    "print(pets[-1])"
   ]
  },
  {
   "cell_type": "markdown",
   "metadata": {},
   "source": [
    "The length of a list can be found with the `len()` function:"
   ]
  },
  {
   "cell_type": "code",
   "execution_count": null,
   "metadata": {},
   "outputs": [],
   "source": [
    "print(len(pets))"
   ]
  },
  {
   "cell_type": "markdown",
   "metadata": {},
   "source": [
    "`len()` also counts the number of characters in a string:"
   ]
  },
  {
   "cell_type": "code",
   "execution_count": null,
   "metadata": {},
   "outputs": [],
   "source": [
    "print(len(\"incomprehensibility\"))"
   ]
  },
  {
   "cell_type": "markdown",
   "metadata": {},
   "source": [
    "## Slicing\n",
    "\n",
    "*Slicing* is taking multiple sequential values from a list. A slice takes two indexes, one for where you want to begin, and one for where you want to stop. The second number specifies the value *after* the last one you want. For example the code below will take indexes 2 and 3.\n",
    "\n",
    "In *Intro to Python*: see worksheet 11, Lists and Indexing."
   ]
  },
  {
   "cell_type": "code",
   "execution_count": null,
   "metadata": {},
   "outputs": [],
   "source": [
    "print(pets[2:4])"
   ]
  },
  {
   "cell_type": "markdown",
   "metadata": {},
   "source": [
    "## Repeating an action (for loop)\n",
    "\n",
    "Use `for` to create a loop. All code indented after the `for` line will be considered inside the loop. The general form is:\n",
    "\n",
    "```python\n",
    "for x in y:\n",
    "    # .... more code goes here\n",
    "```\n",
    "\n",
    "In *Intro to Python*: see worksheet 12, Loops."
   ]
  },
  {
   "cell_type": "code",
   "execution_count": null,
   "metadata": {},
   "outputs": [],
   "source": [
    "for pet in [\"dog\", \"cat\", \"guinea pig\"]:\n",
    "    print(f\"Don't forget to feed the {pet}\")"
   ]
  },
  {
   "cell_type": "code",
   "execution_count": null,
   "metadata": {},
   "outputs": [],
   "source": [
    "for x in range(1,11):\n",
    "    print(f\"Counting! {x} is the number\")"
   ]
  },
  {
   "cell_type": "markdown",
   "metadata": {},
   "source": [
    "## Functions\n",
    "\n",
    "To **define** a function use `def`:"
   ]
  },
  {
   "cell_type": "code",
   "execution_count": null,
   "metadata": {},
   "outputs": [],
   "source": [
    "def say_hello():\n",
    "    print(\"Hello!\")"
   ]
  },
  {
   "cell_type": "markdown",
   "metadata": {},
   "source": [
    "To **call** a function, use its name, plus any arguments it takes in brackets. (If there are no arguments, you must still use the brackets)."
   ]
  },
  {
   "cell_type": "code",
   "execution_count": null,
   "metadata": {},
   "outputs": [],
   "source": [
    "say_hello()"
   ]
  },
  {
   "cell_type": "markdown",
   "metadata": {},
   "source": [
    "In *Intro to Python*: see worksheet 08, Functions."
   ]
  },
  {
   "cell_type": "markdown",
   "metadata": {},
   "source": [
    "## Showing a value vs. returning a value\n",
    "\n",
    "Be careful of the difference between these two:\n",
    "\n",
    "Here's a function that **shows** a value. You will see the value on the screen, but you can't do anything more with this value (like storing it in a variable)."
   ]
  },
  {
   "cell_type": "code",
   "execution_count": null,
   "metadata": {},
   "outputs": [],
   "source": [
    "def add_two_and_show(x):\n",
    "    print(x + 2)"
   ]
  },
  {
   "cell_type": "markdown",
   "metadata": {},
   "source": [
    "Here's a function that **returns** a value. You won't see the value on the screen when you call the function, but the value is returned for you to use."
   ]
  },
  {
   "cell_type": "code",
   "execution_count": null,
   "metadata": {},
   "outputs": [],
   "source": [
    "def add_two(x):\n",
    "    return x + 2"
   ]
  },
  {
   "cell_type": "markdown",
   "metadata": {},
   "source": [
    "So to use the first of these, you would just run the function:"
   ]
  },
  {
   "cell_type": "code",
   "execution_count": null,
   "metadata": {},
   "outputs": [],
   "source": [
    "add_two_and_show(6)"
   ]
  },
  {
   "cell_type": "markdown",
   "metadata": {},
   "source": [
    "For the second, you would want to do something with the output:"
   ]
  },
  {
   "cell_type": "code",
   "execution_count": null,
   "metadata": {},
   "outputs": [],
   "source": [
    "n = add_two(6)\n",
    "print(\"The answer was {}\".format(n))"
   ]
  },
  {
   "cell_type": "markdown",
   "metadata": {},
   "source": [
    "## Accumulating an answer (for loop)\n",
    "\n",
    "This function adds a up a list of numbers:"
   ]
  },
  {
   "cell_type": "code",
   "execution_count": null,
   "metadata": {},
   "outputs": [],
   "source": [
    "def sum_of(numbers):\n",
    "    total = 0\n",
    "    for number in numbers:\n",
    "        total += number\n",
    "    return total"
   ]
  },
  {
   "cell_type": "code",
   "execution_count": null,
   "metadata": {},
   "outputs": [],
   "source": [
    "print(sum_of([1,2,4,8]))"
   ]
  },
  {
   "cell_type": "markdown",
   "metadata": {},
   "source": [
    "## Making a decision (if)\n",
    "\n",
    "To decide between alternatives in Python, use `if`, `elif`, and `else`.\n",
    "\n",
    "In *Intro to Python*: see worksheet 06, if."
   ]
  },
  {
   "cell_type": "code",
   "execution_count": null,
   "metadata": {},
   "outputs": [],
   "source": [
    "def five_letter_word(word):\n",
    "    if len(word) == 5:\n",
    "        print(\"it has five letters!\")\n",
    "    else:\n",
    "        print(\"it doesn't have five letters!\")"
   ]
  },
  {
   "cell_type": "code",
   "execution_count": null,
   "metadata": {},
   "outputs": [],
   "source": [
    "five_letter_word(\"dog\")"
   ]
  },
  {
   "cell_type": "code",
   "execution_count": null,
   "metadata": {},
   "outputs": [],
   "source": [
    "five_letter_word(\"zebra\")"
   ]
  },
  {
   "cell_type": "markdown",
   "metadata": {},
   "source": [
    "## True and False values\n",
    "\n",
    "In *Intro to Python*: see\n",
    " - worksheet 07, False and True, and\n",
    " - worksheet 09, Combining conditions with and, or, not.\n",
    "\n",
    "Python has a notion of `True` and `False` values, usually used with `if`. Comparisons produce True or False, for example:"
   ]
  },
  {
   "cell_type": "code",
   "execution_count": null,
   "metadata": {},
   "outputs": [],
   "source": [
    "print(3 < 4)"
   ]
  },
  {
   "cell_type": "code",
   "execution_count": null,
   "metadata": {},
   "outputs": [],
   "source": [
    "print(5 < 4)"
   ]
  },
  {
   "cell_type": "markdown",
   "metadata": {},
   "source": [
    "To test if two values are equal use `==`\n",
    "\n",
    "A single equals sign `=` is used to set the value of a variable."
   ]
  },
  {
   "cell_type": "code",
   "execution_count": null,
   "metadata": {},
   "outputs": [],
   "source": [
    "print(6 == 6)"
   ]
  },
  {
   "cell_type": "markdown",
   "metadata": {},
   "source": [
    "You can combine conditions using `and` and `or`."
   ]
  },
  {
   "cell_type": "code",
   "execution_count": null,
   "metadata": {},
   "outputs": [],
   "source": [
    "def five_letter_word_starting_with_w(word):\n",
    "    if len(word) == 5 and word.startswith(\"w\"):\n",
    "        print(\"it has five letters and starts with 'w'\")\n",
    "    else:\n",
    "        print(\"it doesn't have five letters, or it doesn't start with 'w'\")"
   ]
  },
  {
   "cell_type": "code",
   "execution_count": null,
   "metadata": {},
   "outputs": [],
   "source": [
    "five_letter_word_starting_with_w(\"later\")"
   ]
  },
  {
   "cell_type": "code",
   "execution_count": null,
   "metadata": {},
   "outputs": [],
   "source": [
    "five_letter_word_starting_with_w(\"water\")"
   ]
  },
  {
   "cell_type": "code",
   "execution_count": null,
   "metadata": {},
   "outputs": [],
   "source": [
    "five_letter_word_starting_with_w(\"octopus\")"
   ]
  },
  {
   "cell_type": "code",
   "execution_count": null,
   "metadata": {},
   "outputs": [],
   "source": []
  }
 ],
 "metadata": {
  "anaconda-cloud": {},
  "kernelspec": {
   "display_name": "Python 3 (ipykernel)",
   "language": "python",
   "name": "python3"
  },
  "language_info": {
   "codemirror_mode": {
    "name": "ipython",
    "version": 3
   },
   "file_extension": ".py",
   "mimetype": "text/x-python",
   "name": "python",
   "nbconvert_exporter": "python",
   "pygments_lexer": "ipython3",
   "version": "3.9.2"
  }
 },
 "nbformat": 4,
 "nbformat_minor": 1
}
