{
 "cells": [
  {
   "cell_type": "markdown",
   "metadata": {},
   "source": [
    "## This session\n",
    "\n",
    "In this session we'll be working on commands that create, modify and delete files. So be careful! If you're not sure, just make sure that none of the filenames are something you care about (like your Notebook files) and you'll be fine."
   ]
  },
  {
   "cell_type": "markdown",
   "metadata": {},
   "source": [
    "## Running programs on the command line\n",
    "\n",
    "Go back to your Home tab on Jupyter. Click on \"New\" on the right, and choose \"Terminal\".\n",
    "\n",
    "You'll see something like this:\n",
    "\n",
    "![New terminal tab](http://softdev.ppls.ed.ac.uk/static/images/terminal.png)\n",
    "\n",
    "This is an interactive command line, where you can type a command and receive a response from the computer. It's also referred to as a \"prompt\", \"terminal\" or \"shell\"."
   ]
  },
  {
   "cell_type": "markdown",
   "metadata": {},
   "source": [
    "## A few basic commands\n",
    "\n",
    "When you type something in to the command line, you're running a program on the computer. The computer will then show you the output (if any) from that program. In the rest of this worksheet I'll use \"command\" and \"program\" interchangeably.\n",
    "\n",
    "### List the current directory\n",
    "\n",
    "At the command line, type:\n",
    "\n",
    "```\n",
    "ls\n",
    "```\n",
    "\n",
    "and hit Return. You'll see a listing of your files on the server -- this will be your notebooks and anything else you've uploaded.\n",
    "\n",
    "### Create an empty file\n",
    "\n",
    "This may seem useless, but we'll use it to give ourselves a test file to work with.\n",
    "\n",
    "Type:\n",
    "\n",
    "```\n",
    "touch testfile.empty\n",
    "```\n",
    "\n",
    "This will create a file called `testfile.empty`. Run `ls` again. You will now see that file in your list of files, confirming that it has been created.\n",
    "\n",
    "### Copy a file\n",
    "\n",
    "The copy command, `cp`, works like this:\n",
    "\n",
    "```\n",
    "cp testfile.empty file2.txt\n",
    "```\n",
    "\n",
    "In that example, it will make a copy of a file called 'testfile', the copy will be called 'file2.txt'.\n",
    "\n",
    "Note that when using the command line you always need to use the full filename -- that includes file extensions (like `.txt`, `.ipynb` and so on).\n",
    "\n",
    "### Remove (i.e. delete) a file\n",
    "\n",
    "<span style=\"color: #AA0000\">**Warning: This deletes files without warning, so be careful!**</span>\n",
    "\n",
    "The remove command `rm` deletes files:\n",
    "\n",
    "```\n",
    "rm file3\n",
    "```\n",
    "\n",
    "In that example, it will delete a file called 'file3'.\n",
    "\n",
    "Now delete the empty file you created above."
   ]
  },
  {
   "cell_type": "markdown",
   "metadata": {},
   "source": [
    "## On your own computer\n",
    "\n",
    "* On **Linux**, the Terminal will be exactly the same as this, as the Jupyter server is running on a Linux computer.\n",
    "* On **Mac OS**, the equivalent is called the Terminal and works mostly in the same way. Once you get into more advanced use there will be some differences.\n",
    "* On **Windows**, there is both the old command line (cmd) and a new one (PowerShell) -- but both of these have different commands and syntax to that which we've learnt today."
   ]
  },
  {
   "cell_type": "markdown",
   "metadata": {},
   "source": [
    "## Anatomy of a command\n",
    "\n",
    "Using our file-copying example:\n",
    "\n",
    "<code>    <span style=\"color: blue\">cp</span> <span style=\"color: green\">testfile.empty</span> <span style=\"color: green\">file2.txt</span></code>\n",
    "\n",
    "The text in blue is the *command*. This tells the command line what you want to do, i.e. which program you want to run.\n",
    "\n",
    "The text in green are the *arguments* or *parameters*. This gives the program you're running information to tell it what you want to do. These are separated by spaces -- so above <code><span style=\"color: green\">testfile.empty</span></code> is the first argument and <code><span style=\"color: green\">file2.txt</span></code> is the second."
   ]
  },
  {
   "cell_type": "markdown",
   "metadata": {},
   "source": [
    "## Wait -- this seems a bit like a function!\n",
    "\n",
    "This is very similar in concept to functions.\n",
    "\n",
    "The command or program name is analogous to the function name, and the arguments to the command correspond to the arguments to the function. In the same way that a function gives a return value, you get output from the program -- for example the list of filenames from `ls`.\n",
    "\n",
    "In this session we'll look at running other programs from Python. We'll also look at how to run Python on the command line."
   ]
  },
  {
   "cell_type": "markdown",
   "metadata": {},
   "source": [
    "## Running commands from Python\n",
    "\n",
    "Commands can be run from Python using the built-in `subprocess` module. Import it now:"
   ]
  },
  {
   "cell_type": "code",
   "execution_count": null,
   "metadata": {
    "collapsed": true
   },
   "outputs": [],
   "source": [
    "import subprocess"
   ]
  },
  {
   "cell_type": "markdown",
   "metadata": {},
   "source": [
    "You can run a command is using `subprocess.run`. For example, to list files:\n",
    "\n",
    "```python\n",
    "result = subprocess.run(['ls'], stdout=subprocess.PIPE)\n",
    "print(result.stdout.decode('utf-8'))\n",
    "```"
   ]
  },
  {
   "cell_type": "code",
   "execution_count": null,
   "metadata": {},
   "outputs": [],
   "source": []
  },
  {
   "cell_type": "markdown",
   "metadata": {},
   "source": [
    "## Breaking this down ....\n",
    "\n",
    "```python\n",
    "result = subprocess.run(['ls'], stdout=subprocess.PIPE)\n",
    "```\n",
    "\n",
    "Here we give the `run()` function:\n",
    "\n",
    "* A list containing the command and its parameters -- here there's only one thing in the list\n",
    "* `stdout=subprocess.PIPE` tells the `run()` function to capture the output as part of the result.\n",
    "\n",
    "```python\n",
    "print(result.stdout.decode(\"utf-8\"))\n",
    "```\n",
    "\n",
    "The output from the program is in `result.stdout`. However programs only return a stream of bytes -- raw data. These need to be interpreted in order to become a string. This process is called \"decoding\". \"utf-8\" is a standard way of encoding strings as bytes.\n",
    "\n",
    "If you're curious, take a look at result.stdout on its own. The difference is especially apparent if you have some non-Latin characters, or Latin characters with diacritics, in filenames. (If you need some examples, try creating a file with a name like 中文, Türkçe, 日本語 or ქართული)."
   ]
  },
  {
   "cell_type": "markdown",
   "metadata": {},
   "source": [
    "## Exercise: A slightly different command\n",
    "\n",
    "Try this again, but this time you'll use Python to run the command\n",
    "\n",
    "```\n",
    "ls -l\n",
    "```\n",
    "\n",
    "`-l` is an option for `ls`, which changes its behaviour. Note that `ls` and `-l` need to be separate items in the list you give to `run()`."
   ]
  },
  {
   "cell_type": "code",
   "execution_count": null,
   "metadata": {
    "collapsed": true
   },
   "outputs": [],
   "source": []
  },
  {
   "cell_type": "markdown",
   "metadata": {},
   "source": [
    "## Exercise: Copy a file\n",
    "\n",
    "Use Python to copy a file. For guidance take a look at the example for `cp` above. If you need to create a new file to work on, you can go back to the terminal and use `touch`. Again, remember that the command `cp` and each of its parameters need to be separate items in the list you give to `subprocess.run()`."
   ]
  },
  {
   "cell_type": "code",
   "execution_count": null,
   "metadata": {
    "collapsed": true
   },
   "outputs": [],
   "source": []
  },
  {
   "cell_type": "markdown",
   "metadata": {},
   "source": [
    "## Exercise: Automation\n",
    "\n",
    "One good use for this is to run a program on a lot of different files. Download the file `images.zip` from the course page:\n",
    "\n",
    "<http://softdev.ppls.ed.ac.uk/python/images.zip>\n",
    "\n",
    "Upload this to the server. You can unzip it from the terminal using the `unzip` command:\n",
    "\n",
    "```\n",
    "unzip -x images.zip\n",
    "```\n",
    "\n",
    "The `-x` option means \"extract\".\n",
    "\n",
    "The `convert` program can be used to manipulate images. In this case, we want to make smaller versions of the images, that are only 100 pixels high. Try this out for one of the images by running this in the terminal:\n",
    "\n",
    "```\n",
    "convert Dog1.jpg -resize x100 Dog1_small.jpg\n",
    "```\n",
    "\n",
    "You can look at the images from the Jupyter window that lists your files and notebooks -- you should see a new file that has been created by `convert`.\n",
    "\n",
    "First, do the equivalent in Python using `subprocess.run()`, for a different image. Check that the new image file has been created.\n",
    "\n",
    "Now automate this process, using `subprocess.run()`. Your code should convert all files that it finds in the current directory with the `.jpg` file extension. The new files should be in the form above, with `_small.jpg` at the end of the filename.\n",
    "\n",
    "Some hints:\n",
    "\n",
    "* The function `os.listdir()` will return a list of the filenames of files in the current directory (you'll have to `import os` first to use this).\n",
    "* So `for filename in os.listdir():` would start a loop through these files.\n",
    "* Filenames are just strings, so you can use (e.g.) `.startswith()`, `.endswith()`, `in`, and so on.\n",
    "* Remember indexing works on the characters in strings -- so for example:\n",
    "\n",
    "```python\n",
    "a = \"herbivorous\"\n",
    "a[:4] # == \"herb\"\n",
    "a[4:8] # == \"ivor\"\n",
    "a[-2:] # == \"us\"\n",
    "```\n",
    "\n",
    "* Remind yourself how the `format()` string method works"
   ]
  },
  {
   "cell_type": "code",
   "execution_count": null,
   "metadata": {},
   "outputs": [],
   "source": []
  },
  {
   "cell_type": "markdown",
   "metadata": {},
   "source": [
    "## Running Python from the terminal\n",
    "\n",
    "Now we're going to do things the other way round -- run a Python program from the terminal. Go to your main Jupyter page, and click on New again on the right. This time select \"Text File\". Now rename the file to something ending in `.py` (e.g. `hello.py`).\n",
    "\n",
    "Notice that this has been recognised as a Python file because of the name -- the word \"Python\" appears in the top right under the Logout button. Now type:\n",
    "\n",
    "```python\n",
    "print(\"hello!\")\n",
    "```\n",
    "\n",
    "In the menus, go to File $\\rightarrow$ Save.\n",
    "\n",
    "Now run your program. Go back to your Terminal tab, or if you closed it, open a new one. In the Terminal, type:\n",
    "\n",
    "```\n",
    "python hello.py\n",
    "```"
   ]
  },
  {
   "cell_type": "markdown",
   "metadata": {},
   "source": [
    "## Arguments in Python\n",
    "\n",
    "In Python, any extra arguments that are given on the command line are stored in `sys.argv`. This variable is a list of strings. As previously mentioned, these arguments are separated by spaces. The first item in the list is the name of the Python program itself.\n",
    "\n",
    "So for example, in a program which is run like this:\n",
    "\n",
    "```\n",
    "python my_program.py 123 carrots 0.456\n",
    "```\n",
    "\n",
    "the contents of `sys.argv` would be:\n",
    "\n",
    "```python\n",
    "['my_program.py', '123', 'carrots', '0.456']\n",
    "```\n",
    "\n",
    "Note that even the numbers are stored as strings -- if you want Python to interpret them as numbers you'll have to explicitly tell it to do so!"
   ]
  },
  {
   "cell_type": "markdown",
   "metadata": {},
   "source": [
    "## Example: Multiply numbers\n",
    "\n",
    "Cut and paste the following into a new text file, and call it `multiply.py`:\n",
    "\n",
    "```python\n",
    "import sys\n",
    "\n",
    "a = float(sys.argv[1])\n",
    "b = float(sys.argv[2])\n",
    "print(a*b)\n",
    "```\n",
    "\n",
    "This program takes the second and third things in `sys.argv` and turns them into floating-point numbers. (Remember that the *first* thing in `sys.argv` is the name of the program). Then it multiplies those numbers together, and prints the result. Try it in the terminal:\n",
    "\n",
    "```python\n",
    "python multiply.py 1.23 4.56\n",
    "```"
   ]
  },
  {
   "cell_type": "markdown",
   "metadata": {},
   "source": [
    "## Exercise: Break the program!\n",
    "\n",
    "`multiply.py` makes a lot of assumptions about the input, it doesn't check anything.\n",
    "\n",
    "Find at least two different error messages you can get by running `multiply.py` from the command line. (If this is confusing, try typing `python multiply.py` with anything you like after it, and take a look at the results)."
   ]
  },
  {
   "cell_type": "markdown",
   "metadata": {},
   "source": [
    "## Exercise: Repetition\n",
    "\n",
    "Write a program, `repeat.py`, which takes two parameters. The first must be a number and the second is a string.\n",
    "\n",
    "The output should be the string repeated that number of times. For example,\n",
    "\n",
    "```python\n",
    "python repeat.py 5 hi\n",
    "```\n",
    "\n",
    "should give the output:\n",
    "\n",
    "```\n",
    "hi\n",
    "hi\n",
    "hi\n",
    "hi\n",
    "hi\n",
    "```\n",
    "\n",
    "Hints:\n",
    "\n",
    "* `for` loops!\n",
    "* You can use the `int()` function to turn a string into a number.\n",
    "\n",
    "### A note on spaces\n",
    "\n",
    "Remember that the command line separates its arguments with spaces. So for example:\n",
    "\n",
    "```\n",
    "python repeat.py 3 I love programming\n",
    "```\n",
    "\n",
    "would give the output:\n",
    "\n",
    "```\n",
    "I\n",
    "I\n",
    "I\n",
    "```\n",
    "\n",
    "To get round this, use quotes. These tell the command line to regard all the text between the quotes as one item. For example:\n",
    "\n",
    "```\n",
    "python repeat.py 3 'I love programming'\n",
    "```\n",
    "\n",
    "would give:\n",
    "\n",
    "```\n",
    "I love programming\n",
    "I love programming\n",
    "I love programming\n",
    "```"
   ]
  },
  {
   "cell_type": "code",
   "execution_count": null,
   "metadata": {
    "collapsed": true
   },
   "outputs": [],
   "source": []
  }
 ],
 "metadata": {
  "anaconda-cloud": {},
  "kernelspec": {
   "display_name": "Python 3",
   "language": "python",
   "name": "python3"
  },
  "language_info": {
   "codemirror_mode": {
    "name": "ipython",
    "version": 3
   },
   "file_extension": ".py",
   "mimetype": "text/x-python",
   "name": "python",
   "nbconvert_exporter": "python",
   "pygments_lexer": "ipython3",
   "version": "3.6.4"
  }
 },
 "nbformat": 4,
 "nbformat_minor": 1
}
