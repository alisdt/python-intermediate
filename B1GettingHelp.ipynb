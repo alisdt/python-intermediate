{
 "cells": [
  {
   "cell_type": "markdown",
   "metadata": {},
   "source": [
    "## Help in Jupyter\n",
    "\n",
    "If you know the name of a function or module, you can get help for it in Jupyter with a simple ?\n",
    "\n",
    "For example for the `print` function:\n",
    "\n",
    "```python\n",
    "?print\n",
    "```\n",
    "\n",
    "For methods, you can use a real object. So for a string method, you could look up the help for `split()` like this:\n",
    "\n",
    "```python\n",
    "a = \"my string\"\n",
    "?a.split\n",
    "```\n",
    "\n",
    "Try looking up the help for some of the functions you've seen already."
   ]
  },
  {
   "cell_type": "code",
   "execution_count": null,
   "metadata": {
    "collapsed": false
   },
   "outputs": [],
   "source": []
  },
  {
   "cell_type": "markdown",
   "metadata": {},
   "source": [
    "## Help from python.org\n",
    "\n",
    "Python has a great website with some very useful documentation. It can be a little hard to navigate for new users, though. Go there now and look and the front page:\n",
    "\n",
    "\n",
    "\n",
    "If you're looking for help with a specific function, try the index:\n",
    "\n",
    "https://www.python.org/\n",
    "\n",
    "Go to Documentation -> Python 3.x docs"
   ]
  },
  {
   "cell_type": "code",
   "execution_count": null,
   "metadata": {
    "collapsed": true
   },
   "outputs": [],
   "source": []
  }
 ],
 "metadata": {
  "anaconda-cloud": {},
  "kernelspec": {
   "display_name": "Python [default]",
   "language": "python",
   "name": "python3"
  },
  "language_info": {
   "codemirror_mode": {
    "name": "ipython",
    "version": 3
   },
   "file_extension": ".py",
   "mimetype": "text/x-python",
   "name": "python",
   "nbconvert_exporter": "python",
   "pygments_lexer": "ipython3",
   "version": "3.5.2"
  }
 },
 "nbformat": 4,
 "nbformat_minor": 1
}
