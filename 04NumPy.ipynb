{
 "cells": [
  {
   "cell_type": "markdown",
   "metadata": {},
   "source": [
    "## An introduction to NumPy\n",
    "\n",
    "NumPy is a set of Python modules to store and manipulate numeric data.\n",
    "\n",
    "As with matplotlib, there's a convention to abbreviate it on import:\n",
    "\n",
    "```python\n",
    "import numpy as np\n",
    "```\n",
    "\n",
    "Do this now."
   ]
  },
  {
   "cell_type": "code",
   "execution_count": null,
   "metadata": {
    "collapsed": true
   },
   "outputs": [],
   "source": []
  },
  {
   "cell_type": "markdown",
   "metadata": {},
   "source": [
    "The fundamental unit of data in NumPy is an array of numerical data. Imagine you want to store some numerical data in Python, this could be:\n",
    "\n",
    "* A regularly spaced timeseries (1 dimension)\n",
    "* An image (2 dimensions)\n",
    "* An MRI scan (3 dimensions)\n",
    "\n",
    "In each of these cases the data are arranged regularly -- in a list (1D), grid (2D) or volume (3D).\n",
    "\n",
    "NumPy can handle all of these, and higher dimensions too.\n",
    "\n",
    "Let's create an example 2D array. There are several ways to create one; first, let's do so from some starting data:\n",
    "\n",
    "```python\n",
    "A = np.array([[1, 36],[6, 98],[3, 55]])\n",
    "```"
   ]
  },
  {
   "cell_type": "code",
   "execution_count": null,
   "metadata": {
    "collapsed": false
   },
   "outputs": [],
   "source": []
  },
  {
   "cell_type": "markdown",
   "metadata": {},
   "source": [
    "To display this quickly, you can just type the name of the variable\n",
    "\n",
    "```python\n",
    "A\n",
    "```\n",
    "\n",
    "at the end of a cell (or as the only thing in the cell) and run it. Try this now:"
   ]
  },
  {
   "cell_type": "code",
   "execution_count": null,
   "metadata": {
    "collapsed": false
   },
   "outputs": [],
   "source": []
  },
  {
   "cell_type": "markdown",
   "metadata": {},
   "source": [
    "You'll find that for a lot of Python objects, running e.g.\n",
    "\n",
    "```python\n",
    "print(my_stuff)\n",
    "```\n",
    "\n",
    "and just\n",
    "\n",
    "```python\n",
    "my_stuff\n",
    "```\n",
    "\n",
    "have very different results. The first works everywhere, in programs and in interactive environments like Jupyter and the Python prompt. The second only works in interactive environments, but will sometimes produce a much more informative result."
   ]
  },
  {
   "cell_type": "markdown",
   "metadata": {},
   "source": [
    "## Array operations\n",
    "\n",
    "As you might expect, you can do maths with these!\n",
    "\n",
    "For example:\n",
    "\n",
    "```python\n",
    "B = np.array([[1, 2],[3, 4],[5, 6]])\n",
    "A + B\n",
    "```"
   ]
  },
  {
   "cell_type": "code",
   "execution_count": null,
   "metadata": {
    "collapsed": false
   },
   "outputs": [],
   "source": []
  },
  {
   "cell_type": "markdown",
   "metadata": {},
   "source": [
    "For each of add (+), subtract (-), multiply (\\*) and divide (/) this works on each element in the matrix individually.\n",
    "\n",
    "Try this:\n",
    "\n",
    "```python\n",
    "C = np.array([[0.1, 0.2],[0.3, 0.4]])\n",
    "A + C\n",
    "```"
   ]
  },
  {
   "cell_type": "code",
   "execution_count": null,
   "metadata": {
    "collapsed": false
   },
   "outputs": [],
   "source": []
  },
  {
   "cell_type": "markdown",
   "metadata": {},
   "source": [
    "This gives an error about \"`shapes`\". Every array has a shape, which can be queried with (e.g.)\n",
    "\n",
    "```python\n",
    "A.shape\n",
    "```\n",
    "\n",
    "(Note that this doesn't have brackets, as it's not a function but an attribute of A).\n",
    "\n",
    "Look at the shapes of `A`, `B` and `C`. When something doesn't work in NumPy, it's often useful to look at the shapes of the arrays involved."
   ]
  },
  {
   "cell_type": "code",
   "execution_count": null,
   "metadata": {
    "collapsed": false
   },
   "outputs": [],
   "source": []
  },
  {
   "cell_type": "markdown",
   "metadata": {},
   "source": [
    "## Broadcasting\n",
    "\n",
    "*Broadcasting* is NumPy's fancy word for array shapes matching such that it makes sense to combine them with addition, subtraction and other operations. If two shapes are exactly the same, trivially they match and we can (for example) add each element in one array to its counterpart in the other.\n",
    "\n",
    "If you give a single numeric value<sup>1</sup> to NumPy then this is \"broadcast\" to the whole array -- in other words, it will (for example) add that number to each element in the whole array.\n",
    "\n",
    "Try this:\n",
    "\n",
    "```python\n",
    "A + 100\n",
    "```\n",
    "\n",
    "<sup>1</sup> .... called a *scalar* in contrast to an array"
   ]
  },
  {
   "cell_type": "code",
   "execution_count": null,
   "metadata": {
    "collapsed": true
   },
   "outputs": [],
   "source": []
  },
  {
   "cell_type": "markdown",
   "metadata": {},
   "source": [
    "That's not the only thing we can do with broadcasting though. If the input is a row or column vector, this will be added as if it was repeated along the other axis.\n",
    "\n",
    "Broadcasting rows:\n",
    "\n",
    "```python\n",
    "A + [100, 1000]\n",
    "```\n",
    "\n",
    "which will work as if you had added:\n",
    "\n",
    "```python\n",
    "array([[ 100, 1000],\n",
    "       [ 100, 1000],\n",
    "       [ 100, 1000]])\n",
    "```\n",
    "\n",
    "and broadcasting columns:\n",
    "\n",
    "```python\n",
    "A + [[10], [100], [1000]]\n",
    "```\n",
    "\n",
    "which will work as if you had added:\n",
    "\n",
    "```python\n",
    "array([[  10,   10],\n",
    "       [ 100,  100],\n",
    "       [1000, 1000]])\n",
    "```\n"
   ]
  },
  {
   "cell_type": "code",
   "execution_count": null,
   "metadata": {
    "collapsed": false
   },
   "outputs": [],
   "source": []
  },
  {
   "cell_type": "markdown",
   "metadata": {},
   "source": [
    "## Indexing NumPy arrays\n",
    "\n",
    "The slightly mindbending thing about NumPy indexing is that rows are always put before columns. This seems ok, but then you find you're doing with images, and you have some code that looks something like:\n",
    "\n",
    "```python\n",
    "my_data[y, x]\n",
    "```\n",
    "\n",
    "This comes from the world of maths, where a matrix might be written like this:\n",
    "\n",
    "\\begin{bmatrix}\n",
    "a_{11}&a_{12}&\\cdots &a_{1n} \\\\\n",
    "a_{21}&a_{22}&\\cdots &a_{2n} \\\\\n",
    "\\vdots & \\vdots & \\ddots & \\vdots\\\\\n",
    "a_{n1}&a_{n2}&\\cdots &a_{nn}\n",
    "\\end{bmatrix}\n",
    "\n",
    "As with (almost) all things Python, rather than starting at 1, the indexed start at 0. So for example,\n",
    "\n",
    "```python\n",
    "A[0,0]\n",
    "```\n",
    "\n",
    "gives the value in the first row and first column of `A`,\n",
    "\n",
    "```python\n",
    "A[0,1]\n",
    "```\n",
    "\n",
    "gives the value in the first row and second column, and so on."
   ]
  },
  {
   "cell_type": "code",
   "execution_count": null,
   "metadata": {
    "collapsed": false
   },
   "outputs": [],
   "source": []
  },
  {
   "cell_type": "markdown",
   "metadata": {},
   "source": [
    "## Slicing and :\n",
    "\n",
    "Just like normal Python lists, you can use `:` to get a range within an array. For example,\n",
    "\n",
    "```python\n",
    "A[0:2,1]\n",
    "```\n",
    "\n",
    "will give the first and second rows, in the second column. (Like list slices, 0:2 means 0 *up to* 2 but not inclusive, so it will get row 0, row 1 but not row 2).\n",
    "\n",
    "You can also use `:` on its own to give the whole of a row or column. For example,\n",
    "\n",
    "```python\n",
    "A[0:2,:]\n",
    "```\n",
    "\n",
    "means \"first and second row, all columns\"."
   ]
  },
  {
   "cell_type": "code",
   "execution_count": null,
   "metadata": {
    "collapsed": false
   },
   "outputs": [],
   "source": []
  },
  {
   "cell_type": "markdown",
   "metadata": {},
   "source": [
    "## Arrays and images\n",
    "\n",
    "Let's look at this with some images. We can use the `matplotlib` function `imshow()` to plot an array, mapping the values to colours on the screen.\n",
    "\n",
    "Run the cell below, which does some setup."
   ]
  },
  {
   "cell_type": "code",
   "execution_count": null,
   "metadata": {
    "collapsed": false
   },
   "outputs": [],
   "source": [
    "%matplotlib inline\n",
    "# Import NumPy and matplotlib\n",
    "import numpy as np\n",
    "import matplotlib.pyplot as plt\n",
    "# Set a greyscale colourmap (we want white for 0 and black for 1)\n",
    "plt.set_cmap('Greys')\n",
    "# Remove scale labels and tick marks from the plot\n",
    "plt.rc('xtick', color='none')\n",
    "plt.rc('ytick', color='none')"
   ]
  },
  {
   "cell_type": "markdown",
   "metadata": {},
   "source": [
    "## A blank canvas\n",
    "\n",
    "The NumPy function `zeros` gives an array filled with zeros of the specified shape. So this:\n",
    "\n",
    "```python\n",
    "canvas = np.zeros((100,50))\n",
    "```\n",
    "\n",
    "gives an array with 100 rows and 50 columns. Try this now. If you're confused by the double brackets, it might help to have a look at the value of \n",
    "\n",
    "```python\n",
    "canvas.shape\n",
    "```"
   ]
  },
  {
   "cell_type": "code",
   "execution_count": null,
   "metadata": {
    "collapsed": false
   },
   "outputs": [],
   "source": []
  },
  {
   "cell_type": "markdown",
   "metadata": {
    "collapsed": true
   },
   "source": [
    "Now let's show this canvas:\n",
    "\n",
    "```python\n",
    "plt.imshow(canvas, interpolation='none')\n",
    "```\n",
    "\n",
    "(The bit about interpolation is because we want to see pixels in the image sharply -- otherwise it would try to blur it to make it more pleasing to the eye).\n",
    "\n",
    "Unsurprisingly the image is blank!"
   ]
  },
  {
   "cell_type": "code",
   "execution_count": null,
   "metadata": {
    "collapsed": true
   },
   "outputs": [],
   "source": []
  },
  {
   "cell_type": "markdown",
   "metadata": {},
   "source": [
    "Let's set a value in the middle of the canvas to 1 and take a look:\n",
    "\n",
    "```python\n",
    "canvas[50,25] = 1\n",
    "plt.imshow(canvas, interpolation='none')\n",
    "```"
   ]
  },
  {
   "cell_type": "code",
   "execution_count": null,
   "metadata": {
    "collapsed": false
   },
   "outputs": [],
   "source": []
  },
  {
   "cell_type": "markdown",
   "metadata": {},
   "source": [
    "## Exercise: The ends of the Earth\n",
    "\n",
    "The way that `matplotlib` shows the array might not be what you expect. Use indexing to set the bottom left and top right of the image to black, so it looks like this:\n",
    "\n",
    "![white rectangle with small black squares at the corners](http://softdev.ppls.ed.ac.uk/static/images/corners.png)\n",
    "\n",
    "If you need to you can always reset the canvas with:\n",
    "\n",
    "```python\n",
    "canvas = np.zeros((100,50))\n",
    "```\n",
    "\n",
    "It's useful to remember that NumPy indexing works like this:\n",
    "\n",
    "```python\n",
    "canvas[row_number, column_number]\n",
    "```"
   ]
  },
  {
   "cell_type": "code",
   "execution_count": null,
   "metadata": {
    "collapsed": false
   },
   "outputs": [],
   "source": []
  },
  {
   "cell_type": "markdown",
   "metadata": {
    "collapsed": true
   },
   "source": [
    "## Exercise: Draw lines\n",
    "\n",
    "Reset your canvas with:\n",
    "\n",
    "```python\n",
    "canvas = np.zeros((100,50))\n",
    "```\n",
    "\n",
    "Now use slicing to set parts of `canvas` to 1, and:\n",
    "\n",
    "* draw a horizontal line all the way across the canvas\n",
    "* draw a vertical line all the way down the canvas\n",
    "\n",
    "Be sure that you know which one is which.\n",
    "\n",
    "Remember that when you're indexing, : can be used to select all rows or all columns."
   ]
  },
  {
   "cell_type": "code",
   "execution_count": null,
   "metadata": {
    "collapsed": false
   },
   "outputs": [],
   "source": []
  },
  {
   "cell_type": "markdown",
   "metadata": {},
   "source": [
    "## Exercise: More advanced slices\n",
    "\n",
    "You can also specify a \"skip\" in your slices. So for example:\n",
    "\n",
    "```python\n",
    "my_array[3:50:5,:]\n",
    "```\n",
    "\n",
    "means \"give me every 5th row, starting at 3, and stopping before 50\".\n",
    "\n",
    "Again, reset your canvas. Use slicing to draw even black and white stripes."
   ]
  },
  {
   "cell_type": "code",
   "execution_count": null,
   "metadata": {
    "collapsed": false
   },
   "outputs": [],
   "source": []
  },
  {
   "cell_type": "markdown",
   "metadata": {},
   "source": [
    "## Exercise: dots!\n",
    "\n",
    "One last exercise: can you use slicing with a skip of 5 to get the image below?\n",
    "\n",
    "![white rectangle with dots](http://softdev.ppls.ed.ac.uk/static/images/dots.png)"
   ]
  },
  {
   "cell_type": "code",
   "execution_count": null,
   "metadata": {
    "collapsed": false
   },
   "outputs": [],
   "source": []
  },
  {
   "cell_type": "markdown",
   "metadata": {},
   "source": [
    "## Showing things the right way up\n",
    "\n",
    "As you've almost certainly gathered by now, the images you create with `imshow()` have the origin in the top-left corner, and are arranged such that in NumPy, you have to give the `y` coordinate first:\n",
    "\n",
    "```python\n",
    "canvas[y,x]\n",
    "```\n",
    "\n",
    "It doesn't have to be like this! An array is just data -- and we can choose to interpret it any way we wish. So we could decide that we want the first coordinate to represent columns and the second rows in the image, so we can reference them like this:\n",
    "\n",
    "```python\n",
    "canvas[x,y]\n",
    "```\n",
    "\n",
    "If we choose this interpretation, we then need to fix it so that `imshow()` shows us the right result. The first step is transpose, which swaps over rows and columns. Remind yourself of the contents of our example array `A` by just running:\n",
    "\n",
    "```python\n",
    "A\n",
    "```"
   ]
  },
  {
   "cell_type": "code",
   "execution_count": null,
   "metadata": {
    "collapsed": false
   },
   "outputs": [],
   "source": []
  },
  {
   "cell_type": "markdown",
   "metadata": {},
   "source": [
    "The transpose of an array is in a data attribute, not a method. You can get it with (for example):\n",
    "\n",
    "```python\n",
    "A.T\n",
    "```"
   ]
  },
  {
   "cell_type": "code",
   "execution_count": null,
   "metadata": {
    "collapsed": false
   },
   "outputs": [],
   "source": []
  },
  {
   "cell_type": "markdown",
   "metadata": {},
   "source": [
    "## Extra Extra Exercise\n",
    "\n",
    "The worksheet `04Life` defines the framework for a cellular automaton, Conway's Game of Life."
   ]
  }
 ],
 "metadata": {
  "anaconda-cloud": {},
  "kernelspec": {
   "display_name": "Python [default]",
   "language": "python",
   "name": "python3"
  },
  "language_info": {
   "codemirror_mode": {
    "name": "ipython",
    "version": 3
   },
   "file_extension": ".py",
   "mimetype": "text/x-python",
   "name": "python",
   "nbconvert_exporter": "python",
   "pygments_lexer": "ipython3",
   "version": "3.5.2"
  }
 },
 "nbformat": 4,
 "nbformat_minor": 1
}
